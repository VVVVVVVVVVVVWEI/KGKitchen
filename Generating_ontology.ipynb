{
 "cells": [
  {
   "cell_type": "code",
   "execution_count": 1,
   "metadata": {},
   "outputs": [],
   "source": [
    "class entity:\n",
    "    def __init__(self, recipe):\n",
    "        self.recipe = recipe\n",
    "        self.ingredient = [x for x in recipe[\"food_ingredients\"]]\n",
    "        self.number = [0.0 for x in recipe[\"food_ingredients\"]]\n",
    "        self.unit = [\"TBD\" for x in recipe[\"food_ingredients\"]]\n",
    "        self.entities = [\"TBD\" for x in recipe[\"food_ingredients\"]]\n",
    "#         self.failure\n",
    "#         self.recipe_triple = []\n",
    "    def get_nlpres(self, nlp_output, index):\n",
    "        if not nlp_output:\n",
    "            self.number[index]=\"TBD\"\n",
    "            self.unit[index] = \"TBD\"\n",
    "            self.entities[index] = \"TBD\"\n",
    "#             print(\"\")\n",
    "            return\n",
    "        res = 0.0\n",
    "        for v in nlp_output:\n",
    "            if v[1] != 'CARDINAL' and v[1] != \"QUANTITY\":\n",
    "#                 print(v)\n",
    "                pass\n",
    "            elif v[1] == \"CARDINAL\":\n",
    "                vals = v[0].split()\n",
    "#                 res = 0.0\n",
    "                for _ in vals:\n",
    "                    try:\n",
    "                        res+=eval(_)\n",
    "                    except:\n",
    "                        break\n",
    "                self.number[index]=res\n",
    "        \n",
    "#                 self.unit.append(\"TBD\")\n",
    "#                 self.entities.append(\"TBD\")\n",
    "            else:\n",
    "                vals = v[0].split()\n",
    "#                 res = 0.0\n",
    "                for _ in vals:\n",
    "                    try:\n",
    "                        res += eval(_)\n",
    "                    except:\n",
    "                        self.unit[index] = _\n",
    "                        break\n",
    "                self.number[index] = res\n",
    "#                 self.entities.append(\"TBD\")\n",
    "            #TBD as default since cannot find"
   ]
  },
  {
   "cell_type": "code",
   "execution_count": 9,
   "metadata": {},
   "outputs": [],
   "source": [
    "class food_entity:\n",
    "    def __init__(self, topclass, subclass, name, price, unit_price):\n",
    "        self.name = name\n",
    "        self.topclass = topclass\n",
    "        self.subclass = subclass\n",
    "        self.price = price\n",
    "        self.unit_price = unit_price\n",
    "        self.unit = unit_price.split(\"/\")[-1]\n",
    "    \n",
    "    def __str__(self):\n",
    "        return str((self.topclass, self.name, self.subclass, self.price, self.unit_price))"
   ]
  },
  {
   "cell_type": "code",
   "execution_count": 36,
   "metadata": {},
   "outputs": [],
   "source": [
    "import pickle"
   ]
  },
  {
   "cell_type": "code",
   "execution_count": 37,
   "metadata": {},
   "outputs": [],
   "source": [
    "with open(\"./food.pkl\", \"rb\") as f:\n",
    "    all_food = pickle.load(f)\n",
    "with open(\"./final_round_extraction.pkl\", \"rb\") as f:\n",
    "    all_recipes = pickle.load(f)"
   ]
  },
  {
   "cell_type": "code",
   "execution_count": 38,
   "metadata": {},
   "outputs": [
    {
     "data": {
      "text/plain": [
       "17263"
      ]
     },
     "execution_count": 38,
     "metadata": {},
     "output_type": "execute_result"
    }
   ],
   "source": [
    "len(all_food)"
   ]
  },
  {
   "cell_type": "code",
   "execution_count": 39,
   "metadata": {},
   "outputs": [
    {
     "data": {
      "text/plain": [
       "3828"
      ]
     },
     "execution_count": 39,
     "metadata": {},
     "output_type": "execute_result"
    }
   ],
   "source": [
    "len(all_recipes)"
   ]
  },
  {
   "cell_type": "markdown",
   "metadata": {},
   "source": [
    "### solving units in all_recipes"
   ]
  },
  {
   "cell_type": "code",
   "execution_count": 40,
   "metadata": {},
   "outputs": [],
   "source": [
    "recipe_units = {'DEFAULT',\n",
    " 'cube',\n",
    " 'cup',\n",
    " 'gallon',\n",
    " 'gram',\n",
    " 'inch',\n",
    " 'liter',\n",
    " 'milliliter',\n",
    " 'not valid',\n",
    " 'ounce',\n",
    " 'oz',\n",
    " 'pound',\n",
    " 'quart',\n",
    " 'tablespoon',\n",
    " 'teaspoon'}"
   ]
  },
  {
   "cell_type": "code",
   "execution_count": 55,
   "metadata": {},
   "outputs": [],
   "source": [
    "food_unit = set()\n",
    "for v in all_food:\n",
    "    food_unit.add(v.unit)"
   ]
  },
  {
   "cell_type": "code",
   "execution_count": 56,
   "metadata": {},
   "outputs": [],
   "source": [
    "recipe_unit = set()\n",
    "for r in all_recipes:\n",
    "    for index in range(len(r.unit)):\n",
    "        recipe_unit.add(r.unit[index])"
   ]
  },
  {
   "cell_type": "code",
   "execution_count": 57,
   "metadata": {},
   "outputs": [
    {
     "data": {
      "text/plain": [
       "{'DEFAULT',\n",
       " 'gram',\n",
       " 'liter',\n",
       " 'not valid',\n",
       " 'oz',\n",
       " 'pound',\n",
       " 'quart',\n",
       " 'tablespoon',\n",
       " 'teaspoon'}"
      ]
     },
     "execution_count": 57,
     "metadata": {},
     "output_type": "execute_result"
    }
   ],
   "source": [
    "recipe_unit"
   ]
  },
  {
   "cell_type": "code",
   "execution_count": 58,
   "metadata": {},
   "outputs": [
    {
     "data": {
      "text/plain": [
       "{'DEFAULT',\n",
       " 'gram',\n",
       " 'kg',\n",
       " 'liter',\n",
       " 'ounce',\n",
       " 'oz',\n",
       " 'pound',\n",
       " 'quart',\n",
       " 'tablespoon',\n",
       " 'teaspoon'}"
      ]
     },
     "execution_count": 58,
     "metadata": {},
     "output_type": "execute_result"
    }
   ],
   "source": [
    "food_unit"
   ]
  },
  {
   "cell_type": "code",
   "execution_count": 47,
   "metadata": {},
   "outputs": [],
   "source": [
    "mapper = {\"cube\": (\"DEFAULT\", 1),\n",
    "          \"DEFAULT\":(\"DEFAULT\", 1),\n",
    "          \"cup\":(\"liter\", 0.5),\n",
    "          \"gallon\": (\"liter\", 3.78541),\n",
    "          \"gram\":(\"gram\", 1),\n",
    "          \"inch\":(\"DEFAULT\", 1),\n",
    "          \"liter\":(\"liter\", 1),\n",
    "          \"milliliter\":(\"liter\", 0.001),\n",
    "          \"ounce\":(\"ounce\", 1),\n",
    "          \"oz\":(\"oz\", 1),\n",
    "          \"pound\":(\"pound\", 1),\n",
    "          \"quart\":(\"quart\", 1), \n",
    "          \"tablespoon\":(\"tablespoon\", 1), \n",
    "          \"teaspoon\":(\"teaspoon\", 1)}\n"
   ]
  },
  {
   "cell_type": "code",
   "execution_count": 52,
   "metadata": {},
   "outputs": [],
   "source": [
    "for r in all_recipes:\n",
    "    for index in range(len(r.unit)):\n",
    "        if r.unit[index]!= \"not valid\":\n",
    "            r.number[index] *= mapper[r.unit[index]][1]\n",
    "            r.unit[index] = mapper[r.unit[index]][0]"
   ]
  },
  {
   "cell_type": "code",
   "execution_count": 53,
   "metadata": {},
   "outputs": [
    {
     "data": {
      "text/plain": [
       "[0.625, 0.3333333333333333, 1.0, 1.0, 0.125, 0.25, 1.0, 0.5]"
      ]
     },
     "execution_count": 53,
     "metadata": {},
     "output_type": "execute_result"
    }
   ],
   "source": [
    "all_recipes[0].number"
   ]
  },
  {
   "cell_type": "code",
   "execution_count": 54,
   "metadata": {},
   "outputs": [
    {
     "data": {
      "text/plain": [
       "['liter',\n",
       " 'liter',\n",
       " 'teaspoon',\n",
       " 'liter',\n",
       " 'teaspoon',\n",
       " 'liter',\n",
       " 'liter',\n",
       " 'DEFAULT']"
      ]
     },
     "execution_count": 54,
     "metadata": {},
     "output_type": "execute_result"
    }
   ],
   "source": [
    "all_recipes[0].unit"
   ]
  },
  {
   "cell_type": "code",
   "execution_count": 51,
   "metadata": {},
   "outputs": [
    {
     "data": {
      "text/plain": [
       "['butter',\n",
       " 'white sugar',\n",
       " 'vanilla extract',\n",
       " 'purpose flour',\n",
       " 'salt',\n",
       " 'unsweetened cocoa powder',\n",
       " 'chop pecan',\n",
       " 'confectioner sugar decoration']"
      ]
     },
     "execution_count": 51,
     "metadata": {},
     "output_type": "execute_result"
    }
   ],
   "source": [
    "all_recipes[0].entities"
   ]
  },
  {
   "cell_type": "code",
   "execution_count": 59,
   "metadata": {},
   "outputs": [
    {
     "name": "stdout",
     "output_type": "stream",
     "text": [
      "('nectarine', 'Red Seedless Grapes, 2 lb', 'nectarine', '3.51', '0.11')\n"
     ]
    }
   ],
   "source": [
    "print(all_food[0])"
   ]
  },
  {
   "cell_type": "code",
   "execution_count": 62,
   "metadata": {},
   "outputs": [
    {
     "data": {
      "text/plain": [
       "{'food_url': 'https://www.allrecipes.com/recipe/15253/chocolate-snowballs/',\n",
       " 'type_url': 'https://www.allrecipes.com/recipes/841/holidays-and-events/christmas/desserts/christmas-cookies/',\n",
       " 'type_name': 'Christmas Cookies',\n",
       " 'food_name': 'Chocolate Snowballs',\n",
       " 'food_ingredients': ['1 1/4 cups butter',\n",
       "  '2/3 cup white sugar',\n",
       "  '1 teaspoon vanilla extract',\n",
       "  '2 cups all-purpose flour',\n",
       "  '1/8 teaspoon salt',\n",
       "  '1/2 cup unsweetened cocoa powder',\n",
       "  '2 cups chopped pecans',\n",
       "  \"1/2 cup confectioners' sugar for decoration\"]}"
      ]
     },
     "execution_count": 62,
     "metadata": {},
     "output_type": "execute_result"
    }
   ],
   "source": [
    "all_recipes[0].recipe"
   ]
  },
  {
   "cell_type": "markdown",
   "metadata": {},
   "source": [
    "### begin entity linking\n",
    "1. define ontology\n",
    "2. by calculating distance on different items to choose the best similarity "
   ]
  },
  {
   "cell_type": "markdown",
   "metadata": {},
   "source": [
    "## Ontology\n",
    "_ a schema:recipe;\n",
    "\n",
    "    rdfs:value recipe_name\n",
    "    \n",
    "    schema:url url\n",
    "    \n",
    "    schema:foodtype recipe_type\n",
    "    \n",
    "    schema:ingredient ingredient\n",
    "    \n",
    "_ a schema:food;\n",
    "\n",
    "    rdfs:value food_name\n",
    "    \n",
    "    schema:price price\n",
    "    \n",
    "    schema:unit unit\n",
    "    \n",
    "    schema:unit_price unit_price\n",
    "    \n",
    "_ a schema:usedby;\n",
    "    \n",
    "    rdfs:domain food\n",
    "    \n",
    "    rdfs:range recipe\n",
    "    \n",
    "    schema:amount number\n",
    "    \n",
    "    schema:unit unit\n",
    "    \n",
    "    schema:unit_price unit price"
   ]
  },
  {
   "cell_type": "code",
   "execution_count": 75,
   "metadata": {},
   "outputs": [],
   "source": [
    "from collections import defaultdict"
   ]
  },
  {
   "cell_type": "code",
   "execution_count": 105,
   "metadata": {},
   "outputs": [],
   "source": [
    "grouped_food  = defaultdict(list)\n",
    "cnt = 0\n",
    "for v in all_food:\n",
    "    grouped_food[v.topclass].append((v, cnt))\n",
    "    cnt += 1"
   ]
  },
  {
   "cell_type": "code",
   "execution_count": null,
   "metadata": {},
   "outputs": [],
   "source": []
  },
  {
   "cell_type": "code",
   "execution_count": 69,
   "metadata": {},
   "outputs": [],
   "source": [
    "from rltk.similarity.jaro import jaro_winkler_distance"
   ]
  },
  {
   "cell_type": "code",
   "execution_count": 97,
   "metadata": {},
   "outputs": [],
   "source": [
    "not_joined = set() # set to NULL for this class when adding entity\n",
    "all_set = set()\n",
    "for r in all_recipes:\n",
    "    for index in range(len(r.unit)):\n",
    "        all_set.add(r.entities[index])\n",
    "        if r.entities[index] not in grouped_food:\n",
    "            not_joined.add(r.entities[index])"
   ]
  },
  {
   "cell_type": "code",
   "execution_count": 98,
   "metadata": {},
   "outputs": [
    {
     "data": {
      "text/plain": [
       "3964"
      ]
     },
     "execution_count": 98,
     "metadata": {},
     "output_type": "execute_result"
    }
   ],
   "source": [
    "len(all_set)"
   ]
  },
  {
   "cell_type": "code",
   "execution_count": 102,
   "metadata": {},
   "outputs": [
    {
     "data": {
      "text/plain": [
       "134"
      ]
     },
     "execution_count": 102,
     "metadata": {},
     "output_type": "execute_result"
    }
   ],
   "source": [
    "len(not_joined)"
   ]
  },
  {
   "cell_type": "code",
   "execution_count": 99,
   "metadata": {},
   "outputs": [],
   "source": [
    "lenset = set()\n",
    "checkset = defaultdict(set)\n",
    "for r in all_recipes:\n",
    "    for index in range(len(r.unit)):\n",
    "        lenset.add(len(r.entities[index].split()))\n",
    "        checkset[len(r.entities[index].split())].add(r.entities[index])"
   ]
  },
  {
   "cell_type": "code",
   "execution_count": 100,
   "metadata": {},
   "outputs": [
    {
     "name": "stdout",
     "output_type": "stream",
     "text": [
      "3964\n"
     ]
    }
   ],
   "source": [
    "print(len(checkset[1])+len(checkset[2])+len(checkset[3])+len(checkset[4])+len(checkset[5])+len(checkset[6]))"
   ]
  },
  {
   "cell_type": "code",
   "execution_count": 101,
   "metadata": {},
   "outputs": [
    {
     "name": "stdout",
     "output_type": "stream",
     "text": [
      "3838\n"
     ]
    }
   ],
   "source": [
    "print(len(grouped_food))"
   ]
  },
  {
   "cell_type": "code",
   "execution_count": 96,
   "metadata": {},
   "outputs": [
    {
     "name": "stdout",
     "output_type": "stream",
     "text": [
      "3973\n"
     ]
    }
   ],
   "source": [
    "print(len(one)+len(two)+len(three)+len(four)+len(five)+len(six))"
   ]
  },
  {
   "cell_type": "code",
   "execution_count": 77,
   "metadata": {},
   "outputs": [],
   "source": [
    "one  = set()\n",
    "with open(\"./1.txt\", \"r\") as f:\n",
    "    for line in f:\n",
    "        one.add(line.strip())\n",
    "two = set()\n",
    "with open(\"./2.txt\", \"r\") as f:\n",
    "    for line in f:\n",
    "        two.add(line.strip())\n",
    "three = set()\n",
    "with open(\"./3.txt\", \"r\") as f:\n",
    "    for line in f:\n",
    "        three.add(line.strip())\n",
    "four = set()\n",
    "with open(\"./4.txt\", \"r\") as f:\n",
    "    for line in f:\n",
    "        four.add(line.strip())\n",
    "five = set()\n",
    "with open(\"./5.txt\", \"r\") as f:\n",
    "    for line in f:\n",
    "        five.add(line.strip())\n",
    "six = set()\n",
    "with open(\"./6.txt\", \"r\") as f:\n",
    "    for line in f:\n",
    "        six.add(line.strip())"
   ]
  },
  {
   "cell_type": "code",
   "execution_count": 87,
   "metadata": {},
   "outputs": [
    {
     "data": {
      "text/plain": [
       "set()"
      ]
     },
     "execution_count": 87,
     "metadata": {},
     "output_type": "execute_result"
    }
   ],
   "source": [
    "checkset[6].difference(six)"
   ]
  },
  {
   "cell_type": "code",
   "execution_count": 113,
   "metadata": {},
   "outputs": [
    {
     "data": {
      "text/plain": [
       "1.866714223681405"
      ]
     },
     "execution_count": 113,
     "metadata": {},
     "output_type": "execute_result"
    }
   ],
   "source": [
    "import random"
   ]
  },
  {
   "cell_type": "code",
   "execution_count": 162,
   "metadata": {},
   "outputs": [],
   "source": [
    "from rdflib import URIRef, BNode, Literal, Namespace, Graph\n",
    "from rdflib.namespace import RDF, RDFS, XSD, NamespaceManager\n",
    "SCHEMA = Namespace(\"http://schema.org/\")\n",
    "namespace_manager = NamespaceManager(Graph())\n",
    "namespace_manager.bind(\"schema\", SCHEMA, override=False)\n",
    "\n",
    "ontologies = Graph()\n",
    "ontologies.namespace_manager = namespace_manager"
   ]
  },
  {
   "cell_type": "code",
   "execution_count": 163,
   "metadata": {},
   "outputs": [],
   "source": [
    "def resolving_url(url):\n",
    "    return url.replace(\".\", \"-\").replace(\":\", \"-\").replace(\"/\", \"-\")"
   ]
  },
  {
   "cell_type": "code",
   "execution_count": 164,
   "metadata": {},
   "outputs": [
    {
     "name": "stdout",
     "output_type": "stream",
     "text": [
      "random price\n",
      "random unit_price\n",
      "random price\n",
      "random unit_price\n",
      "random price\n",
      "random unit_price\n",
      "random price\n",
      "random unit_price\n",
      "random price\n",
      "random unit_price\n",
      "random price\n",
      "random unit_price\n",
      "random price\n",
      "random unit_price\n",
      "random price\n",
      "random unit_price\n"
     ]
    }
   ],
   "source": [
    "for r in all_recipes:\n",
    "    tmp = BNode(resolving_url(r.recipe[\"food_url\"]))\n",
    "    ontologies.add((tmp, RDF.type, SCHEMA.recipe))\n",
    "    ontologies.set((tmp, RDF.value, Literal(str(r.recipe[\"food_name\"]), datatype=XSD.string)))\n",
    "    ontologies.set((tmp, SCHEMA.recipe_url, Literal(r.recipe[\"food_url\"])))\n",
    "    ontologies.set((tmp, SCHEMA.type_url, Literal(r.recipe[\"type_url\"])))\n",
    "    ontologies.set((tmp, SCHEMA.ingredient, Literal(str(r.recipe[\"food_ingredients\"]), datatype=XSD.string)))\n",
    "#     for index, value in enumerate(r.entities): # defined food used by\n",
    "#         if value not in not_joined:\n",
    "#             possible_solution = \n",
    "            \n",
    "#         else:\n",
    "#         self.name = name\n",
    "#         self.topclass = topclass\n",
    "#         self.subclass = subclass\n",
    "#         self.price = price\n",
    "#         self.unit_price = unit_price\n",
    "#         self.unit = unit_price.split(\"/\")[-1]\n",
    "for key, value in grouped_food.items():\n",
    "    for v in value:\n",
    "        tmp = BNode(v[1])\n",
    "        ontologies.add((tmp, RDF.type, SCHEMA.food))\n",
    "        ontologies.set((tmp, RDF.value, Literal(str(v[0].name), datatype=XSD.string)))\n",
    "        ontologies.set((tmp, SCHEMA.topclass, Literal(v[0].topclass)))\n",
    "        ontologies.set((tmp, SCHEMA.subclass, Literal(v[0].subclass)))\n",
    "        try:\n",
    "            ontologies.set((tmp, SCHEMA.price, Literal(float(v[0].price), datatype=XSD.double)))\n",
    "        except:\n",
    "            print(\"random price\")\n",
    "            ontologies.set((tmp, SCHEMA.price, Literal(random.uniform(2.0, 10.0), datatype=XSD.double)))\n",
    "        try:\n",
    "            ontologies.set((tmp, SCHEMA.unit_price, Literal(float(v[0].unit_price), datatype=XSD.double)))\n",
    "        except:\n",
    "            print(\"random unit_price\")\n",
    "            ontologies.set((tmp, SCHEMA.unit_price, Literal(random.uniform(1.0, 2.0), datatype=XSD.double)))\n",
    "        ontologies.set((tmp, SCHEMA.unit, Literal(v[0].unit)))"
   ]
  },
  {
   "cell_type": "code",
   "execution_count": 165,
   "metadata": {},
   "outputs": [],
   "source": [
    "from uuid import uuid4"
   ]
  },
  {
   "cell_type": "code",
   "execution_count": 166,
   "metadata": {},
   "outputs": [],
   "source": [
    "# usedby\n",
    "for r in all_recipes:\n",
    "    for index, value in enumerate(r.entities):\n",
    "        if value != \"not valid\":\n",
    "            food_candidates = grouped_food[value]\n",
    "            if food_candidates:\n",
    "                food_candidates.sort(key=lambda x: jaro_winkler_distance(str(x[0].name), value), reverse=True)\n",
    "    #             print(food_candidates[0][0].name, value)\n",
    "                using_food = food_candidates[0]\n",
    "                recipe = BNode(resolving_url(r.recipe[\"food_url\"]))\n",
    "                food = BNode(using_food[1])\n",
    "                relation = BNode(uuid4())\n",
    "                ontologies.add((relation, RDF.type, SCHEMA.usedby))\n",
    "                ontologies.set((relation, SCHEMA.inrecipe, recipe))\n",
    "                ontologies.set((relation, SCHEMA.forfood, food))\n",
    "                ontologies.set((relation, SCHEMA.amount, Literal(float(r.number[index]), datatype=XSD.double)))\n",
    "                ontologies.set((relation, SCHEMA.unit, Literal(str(r.unit[index]))))\n",
    "                try:\n",
    "                    ontologies.set((relation, SCHEMA.unit_price, Literal(float(v[0].unit_price), datatype=XSD.double)))\n",
    "                except:\n",
    "                    print(\"random unit_price\")\n",
    "                    ontologies.set((relation, SCHEMA.unit_price, Literal(random.uniform(2.0, 10.0), datatype=XSD.double)))\n",
    "\n"
   ]
  },
  {
   "cell_type": "code",
   "execution_count": 167,
   "metadata": {},
   "outputs": [],
   "source": [
    "ontologies.serialize(destination=\"recipe_food.ttl\" ,format='turtle')"
   ]
  },
  {
   "cell_type": "code",
   "execution_count": 138,
   "metadata": {},
   "outputs": [
    {
     "name": "stdout",
     "output_type": "stream",
     "text": [
      "multicolored candy sprinkle optional\n"
     ]
    }
   ],
   "source": [
    "for g in grouped_food:\n",
    "    if not grouped_food[g]:\n",
    "        print(g)"
   ]
  },
  {
   "cell_type": "code",
   "execution_count": 66,
   "metadata": {},
   "outputs": [],
   "source": []
  },
  {
   "cell_type": "code",
   "execution_count": 67,
   "metadata": {},
   "outputs": [
    {
     "data": {
      "text/plain": [
       "3838"
      ]
     },
     "execution_count": 67,
     "metadata": {},
     "output_type": "execute_result"
    }
   ],
   "source": []
  },
  {
   "cell_type": "code",
   "execution_count": null,
   "metadata": {},
   "outputs": [],
   "source": []
  }
 ],
 "metadata": {
  "kernelspec": {
   "display_name": "Python [conda env:miniconda3]",
   "language": "python",
   "name": "conda-env-miniconda3-py"
  },
  "language_info": {
   "codemirror_mode": {
    "name": "ipython",
    "version": 3
   },
   "file_extension": ".py",
   "mimetype": "text/x-python",
   "name": "python",
   "nbconvert_exporter": "python",
   "pygments_lexer": "ipython3",
   "version": "3.6.5"
  }
 },
 "nbformat": 4,
 "nbformat_minor": 2
}

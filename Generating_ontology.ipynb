{
 "cells": [
  {
   "cell_type": "code",
   "execution_count": 1,
   "metadata": {},
   "outputs": [],
   "source": [
    "class entity:\n",
    "    def __init__(self, recipe):\n",
    "        self.recipe = recipe\n",
    "        self.ingredient = [x for x in recipe[\"food_ingredients\"]]\n",
    "        self.number = [0.0 for x in recipe[\"food_ingredients\"]]\n",
    "        self.unit = [\"TBD\" for x in recipe[\"food_ingredients\"]]\n",
    "        self.entities = [\"TBD\" for x in recipe[\"food_ingredients\"]]\n",
    "#         self.failure\n",
    "#         self.recipe_triple = []\n",
    "    def get_nlpres(self, nlp_output, index):\n",
    "        if not nlp_output:\n",
    "            self.number[index]=\"TBD\"\n",
    "            self.unit[index] = \"TBD\"\n",
    "            self.entities[index] = \"TBD\"\n",
    "#             print(\"\")\n",
    "            return\n",
    "        res = 0.0\n",
    "        for v in nlp_output:\n",
    "            if v[1] != 'CARDINAL' and v[1] != \"QUANTITY\":\n",
    "#                 print(v)\n",
    "                pass\n",
    "            elif v[1] == \"CARDINAL\":\n",
    "                vals = v[0].split()\n",
    "#                 res = 0.0\n",
    "                for _ in vals:\n",
    "                    try:\n",
    "                        res+=eval(_)\n",
    "                    except:\n",
    "                        break\n",
    "                self.number[index]=res\n",
    "        \n",
    "#                 self.unit.append(\"TBD\")\n",
    "#                 self.entities.append(\"TBD\")\n",
    "            else:\n",
    "                vals = v[0].split()\n",
    "#                 res = 0.0\n",
    "                for _ in vals:\n",
    "                    try:\n",
    "                        res += eval(_)\n",
    "                    except:\n",
    "                        self.unit[index] = _\n",
    "                        break\n",
    "                self.number[index] = res\n",
    "#                 self.entities.append(\"TBD\")\n",
    "            #TBD as default since cannot find"
   ]
  },
  {
   "cell_type": "code",
   "execution_count": 2,
   "metadata": {},
   "outputs": [],
   "source": [
    "class food_entity:\n",
    "    def __init__(self, topclass, subclass, name, price, unit_price):\n",
    "        self.name = name\n",
    "        self.topclass = topclass\n",
    "        self.subclass = subclass\n",
    "        self.price = price\n",
    "        self.unit_price = unit_price\n",
    "        self.unit = unit_price.split(\"/\")[-1]\n",
    "    \n",
    "    def __str__(self):\n",
    "        return str((self.topclass, self.name, self.subclass, self.price, self.unit_price))"
   ]
  },
  {
   "cell_type": "code",
   "execution_count": 3,
   "metadata": {},
   "outputs": [],
   "source": [
    "import pickle"
   ]
  },
  {
   "cell_type": "code",
   "execution_count": 4,
   "metadata": {},
   "outputs": [],
   "source": [
    "with open(\"./food.pkl\", \"rb\") as f:\n",
    "    all_food = pickle.load(f)\n",
    "with open(\"./final_round_extraction.pkl\", \"rb\") as f:\n",
    "    all_recipes = pickle.load(f)"
   ]
  },
  {
   "cell_type": "code",
   "execution_count": 8,
   "metadata": {},
   "outputs": [],
   "source": [
    "ccc = 0\n",
    "for recipe in all_recipes:\n",
    "    for i, v in enumerate(recipe.unit):\n",
    "        ccc += 1"
   ]
  },
  {
   "cell_type": "code",
   "execution_count": 9,
   "metadata": {},
   "outputs": [
    {
     "data": {
      "text/plain": [
       "33456"
      ]
     },
     "execution_count": 9,
     "metadata": {},
     "output_type": "execute_result"
    }
   ],
   "source": [
    "ccc"
   ]
  },
  {
   "cell_type": "code",
   "execution_count": 5,
   "metadata": {},
   "outputs": [
    {
     "data": {
      "text/plain": [
       "17263"
      ]
     },
     "execution_count": 5,
     "metadata": {},
     "output_type": "execute_result"
    }
   ],
   "source": [
    "len(all_food)"
   ]
  },
  {
   "cell_type": "code",
   "execution_count": 6,
   "metadata": {},
   "outputs": [
    {
     "data": {
      "text/plain": [
       "3828"
      ]
     },
     "execution_count": 6,
     "metadata": {},
     "output_type": "execute_result"
    }
   ],
   "source": [
    "len(all_recipes)"
   ]
  },
  {
   "cell_type": "markdown",
   "metadata": {},
   "source": [
    "### solving units in all_recipes"
   ]
  },
  {
   "cell_type": "code",
   "execution_count": 7,
   "metadata": {},
   "outputs": [],
   "source": [
    "recipe_units = {'DEFAULT',\n",
    " 'cube',\n",
    " 'cup',\n",
    " 'gallon',\n",
    " 'gram',\n",
    " 'inch',\n",
    " 'liter',\n",
    " 'milliliter',\n",
    " 'not valid',\n",
    " 'ounce',\n",
    " 'oz',\n",
    " 'pound',\n",
    " 'quart',\n",
    " 'tablespoon',\n",
    " 'teaspoon'}"
   ]
  },
  {
   "cell_type": "code",
   "execution_count": 21,
   "metadata": {},
   "outputs": [],
   "source": [
    "food_unit = set()\n",
    "for v in all_food:\n",
    "    food_unit.add(v.unit)"
   ]
  },
  {
   "cell_type": "code",
   "execution_count": 22,
   "metadata": {},
   "outputs": [],
   "source": [
    "recipe_unit = set()\n",
    "for r in all_recipes:\n",
    "    for index in range(len(r.unit)):\n",
    "        recipe_unit.add(r.unit[index])"
   ]
  },
  {
   "cell_type": "code",
   "execution_count": 23,
   "metadata": {},
   "outputs": [
    {
     "data": {
      "text/plain": [
       "{'DEFAULT',\n",
       " 'cube',\n",
       " 'cup',\n",
       " 'gallon',\n",
       " 'gram',\n",
       " 'inch',\n",
       " 'liter',\n",
       " 'milliliter',\n",
       " 'not valid',\n",
       " 'oz',\n",
       " 'pound',\n",
       " 'quart',\n",
       " 'tablespoon',\n",
       " 'teaspoon'}"
      ]
     },
     "execution_count": 23,
     "metadata": {},
     "output_type": "execute_result"
    }
   ],
   "source": [
    "recipe_unit"
   ]
  },
  {
   "cell_type": "code",
   "execution_count": 24,
   "metadata": {},
   "outputs": [
    {
     "data": {
      "text/plain": [
       "{'DEFAULT',\n",
       " 'gram',\n",
       " 'kg',\n",
       " 'liter',\n",
       " 'ounce',\n",
       " 'oz',\n",
       " 'pound',\n",
       " 'quart',\n",
       " 'tablespoon',\n",
       " 'teaspoon'}"
      ]
     },
     "execution_count": 24,
     "metadata": {},
     "output_type": "execute_result"
    }
   ],
   "source": [
    "food_unit"
   ]
  },
  {
   "cell_type": "code",
   "execution_count": 33,
   "metadata": {},
   "outputs": [],
   "source": [
    "mapper = {\"cube\": (\"DEFAULT\", 1),\n",
    "          \"DEFAULT\":(\"DEFAULT\", 1),\n",
    "          \"cup\":(\"liter\", 0.5),\n",
    "          \"gallon\": (\"liter\", 3.78541),\n",
    "          \"gram\":(\"gram\", 1),\n",
    "          \"inch\":(\"DEFAULT\", 1),\n",
    "          \"liter\":(\"liter\", 1),\n",
    "          \"milliliter\":(\"liter\", 0.001),\n",
    "          \"ounce\":(\"ounce\", 1),\n",
    "          \"oz\":(\"oz\", 1),\n",
    "          \"pound\":(\"pound\", 1),\n",
    "          \"quart\":(\"quart\", 1), \n",
    "          \"tablespoon\":(\"gram\", 0.001), \n",
    "          \"teaspoon\":(\"gram\", 0.001),\n",
    "          \"kg\":(\"gram\", 1000)\n",
    "        }\n"
   ]
  },
  {
   "cell_type": "code",
   "execution_count": null,
   "metadata": {},
   "outputs": [],
   "source": []
  },
  {
   "cell_type": "code",
   "execution_count": 12,
   "metadata": {},
   "outputs": [],
   "source": [
    "for r in all_recipes:\n",
    "    for index in range(len(r.unit)):\n",
    "        if r.unit[index]!= \"not valid\":\n",
    "            r.number[index] *= mapper[r.unit[index]][1]\n",
    "            r.unit[index] = mapper[r.unit[index]][0]"
   ]
  },
  {
   "cell_type": "code",
   "execution_count": 13,
   "metadata": {},
   "outputs": [
    {
     "data": {
      "text/plain": [
       "[0.625, 0.3333333333333333, 1.0, 1.0, 0.125, 0.25, 1.0, 0.5]"
      ]
     },
     "execution_count": 13,
     "metadata": {},
     "output_type": "execute_result"
    }
   ],
   "source": [
    "all_recipes[0].number"
   ]
  },
  {
   "cell_type": "code",
   "execution_count": 14,
   "metadata": {},
   "outputs": [
    {
     "data": {
      "text/plain": [
       "['liter',\n",
       " 'liter',\n",
       " 'teaspoon',\n",
       " 'liter',\n",
       " 'teaspoon',\n",
       " 'liter',\n",
       " 'liter',\n",
       " 'DEFAULT']"
      ]
     },
     "execution_count": 14,
     "metadata": {},
     "output_type": "execute_result"
    }
   ],
   "source": [
    "all_recipes[0].unit"
   ]
  },
  {
   "cell_type": "code",
   "execution_count": 8,
   "metadata": {},
   "outputs": [
    {
     "data": {
      "text/plain": [
       "['butter',\n",
       " 'white sugar',\n",
       " 'vanilla extract',\n",
       " 'purpose flour',\n",
       " 'salt',\n",
       " 'unsweetened cocoa powder',\n",
       " 'chop pecan',\n",
       " 'confectioner sugar decoration']"
      ]
     },
     "execution_count": 8,
     "metadata": {},
     "output_type": "execute_result"
    }
   ],
   "source": [
    "all_recipes[0].entities"
   ]
  },
  {
   "cell_type": "code",
   "execution_count": 10,
   "metadata": {},
   "outputs": [
    {
     "data": {
      "text/plain": [
       "{'food_url': 'https://www.allrecipes.com/recipe/15253/chocolate-snowballs/',\n",
       " 'type_url': 'https://www.allrecipes.com/recipes/841/holidays-and-events/christmas/desserts/christmas-cookies/',\n",
       " 'type_name': 'Christmas Cookies',\n",
       " 'food_name': 'Chocolate Snowballs',\n",
       " 'food_ingredients': ['1 1/4 cups butter',\n",
       "  '2/3 cup white sugar',\n",
       "  '1 teaspoon vanilla extract',\n",
       "  '2 cups all-purpose flour',\n",
       "  '1/8 teaspoon salt',\n",
       "  '1/2 cup unsweetened cocoa powder',\n",
       "  '2 cups chopped pecans',\n",
       "  \"1/2 cup confectioners' sugar for decoration\"]}"
      ]
     },
     "execution_count": 10,
     "metadata": {},
     "output_type": "execute_result"
    }
   ],
   "source": [
    "all_recipes[0].recipe"
   ]
  },
  {
   "cell_type": "code",
   "execution_count": 17,
   "metadata": {},
   "outputs": [
    {
     "name": "stdout",
     "output_type": "stream",
     "text": [
      "('nectarine', 'Red Seedless Grapes, 2 lb', 'nectarine', '3.51', '0.11')\n"
     ]
    }
   ],
   "source": [
    "print(all_food[0])"
   ]
  },
  {
   "cell_type": "code",
   "execution_count": 18,
   "metadata": {},
   "outputs": [
    {
     "data": {
      "text/plain": [
       "{'food_url': 'https://www.allrecipes.com/recipe/15253/chocolate-snowballs/',\n",
       " 'type_url': 'https://www.allrecipes.com/recipes/841/holidays-and-events/christmas/desserts/christmas-cookies/',\n",
       " 'type_name': 'Christmas Cookies',\n",
       " 'food_name': 'Chocolate Snowballs',\n",
       " 'food_ingredients': ['1 1/4 cups butter',\n",
       "  '2/3 cup white sugar',\n",
       "  '1 teaspoon vanilla extract',\n",
       "  '2 cups all-purpose flour',\n",
       "  '1/8 teaspoon salt',\n",
       "  '1/2 cup unsweetened cocoa powder',\n",
       "  '2 cups chopped pecans',\n",
       "  \"1/2 cup confectioners' sugar for decoration\"]}"
      ]
     },
     "execution_count": 18,
     "metadata": {},
     "output_type": "execute_result"
    }
   ],
   "source": [
    "all_recipes[0].recipe"
   ]
  },
  {
   "cell_type": "markdown",
   "metadata": {},
   "source": [
    "### begin entity linking\n",
    "1. define ontology\n",
    "2. by calculating distance on different items to choose the best similarity "
   ]
  },
  {
   "cell_type": "markdown",
   "metadata": {},
   "source": [
    "## Ontology\n",
    "_ a schema:recipe;\n",
    "\n",
    "    rdfs:value recipe_name\n",
    "    \n",
    "    schema:url url\n",
    "    \n",
    "    schema:foodtype recipe_type\n",
    "    \n",
    "    schema:ingredient ingredient\n",
    "    \n",
    "_ a schema:food;\n",
    "\n",
    "    rdfs:value food_name\n",
    "    \n",
    "    schema:price price\n",
    "    \n",
    "    schema:unit unit\n",
    "    \n",
    "    schema:unit_price unit_price\n",
    "    \n",
    "_ a schema:usedby;\n",
    "    \n",
    "    rdfs:domain food\n",
    "    \n",
    "    rdfs:range recipe\n",
    "    \n",
    "    schema:amount number\n",
    "    \n",
    "    schema:unit unit\n",
    "    \n",
    "    schema:unit_price unit price"
   ]
  },
  {
   "cell_type": "code",
   "execution_count": 5,
   "metadata": {},
   "outputs": [],
   "source": [
    "from collections import defaultdict"
   ]
  },
  {
   "cell_type": "code",
   "execution_count": 6,
   "metadata": {},
   "outputs": [],
   "source": [
    "grouped_food  = defaultdict(list)\n",
    "cnt = 0\n",
    "for v in all_food:\n",
    "    grouped_food[v.topclass].append((v, cnt))\n",
    "    cnt += 1"
   ]
  },
  {
   "cell_type": "code",
   "execution_count": 7,
   "metadata": {},
   "outputs": [
    {
     "data": {
      "text/plain": [
       "17263"
      ]
     },
     "execution_count": 7,
     "metadata": {},
     "output_type": "execute_result"
    }
   ],
   "source": [
    "cnt"
   ]
  },
  {
   "cell_type": "code",
   "execution_count": 26,
   "metadata": {},
   "outputs": [],
   "source": [
    "from rltk.similarity.jaro import jaro_winkler_distance\n",
    "from rltk.similarity.tf_idf import TF_IDF"
   ]
  },
  {
   "cell_type": "code",
   "execution_count": 9,
   "metadata": {},
   "outputs": [],
   "source": [
    "not_joined = set() # set to NULL for this class when adding entity\n",
    "all_set = set()\n",
    "for r in all_recipes:\n",
    "    for index in range(len(r.unit)):\n",
    "        all_set.add(r.entities[index])\n",
    "        if r.entities[index] not in grouped_food:\n",
    "            not_joined.add(r.entities[index])"
   ]
  },
  {
   "cell_type": "code",
   "execution_count": 10,
   "metadata": {},
   "outputs": [
    {
     "data": {
      "text/plain": [
       "3964"
      ]
     },
     "execution_count": 10,
     "metadata": {},
     "output_type": "execute_result"
    }
   ],
   "source": [
    "len(all_set)"
   ]
  },
  {
   "cell_type": "code",
   "execution_count": 11,
   "metadata": {},
   "outputs": [
    {
     "data": {
      "text/plain": [
       "{'bite size cauliflower floret',\n",
       " 'blackstrap',\n",
       " 'blue curacao liqueur',\n",
       " 'bone pork shoulder blade roast',\n",
       " 'bottle bottled coleslaw dress',\n",
       " 'bottle mexican beer such corona',\n",
       " 'bottle proof bourbon whiskey',\n",
       " 'bottle prosecco italian sparkle wine',\n",
       " 'bottled coleslaw dress',\n",
       " 'broccoli floret optional',\n",
       " 'bunch slender asparagus spear',\n",
       " 'cachaca',\n",
       " 'chop dill pickle optional',\n",
       " 'chop pimento pepper optional',\n",
       " 'chop pimento stuff green olive',\n",
       " 'chunk drain juice reserve',\n",
       " 'clove press garlic',\n",
       " 'cognac',\n",
       " 'cointreau',\n",
       " 'cointreau other orange liqueur',\n",
       " 'colored candy coating melt',\n",
       " 'cook lobster tail meat',\n",
       " 'crabmeat drain cartilage',\n",
       " 'creamy poblano queso soup',\n",
       " 'crush clove optional',\n",
       " 'crush plain tortilla chip',\n",
       " 'cub papaya optional',\n",
       " 'cub pasteurize prepared cheese product',\n",
       " 'cub skinless cook turkey',\n",
       " 'dash angostura bitter',\n",
       " 'dash bitter such angostura',\n",
       " 'deluxe canadian whiskey',\n",
       " 'dry mince garlic optional',\n",
       " 'dry rainbow radiatore pasta',\n",
       " 'firm ripe bartlett pear',\n",
       " 'fresh thick chinese wheat noodle',\n",
       " 'granular sucrolose sweetener such splenda',\n",
       " 'greek olive',\n",
       " 'green decorator sugar optional',\n",
       " 'irish stout beer',\n",
       " 'jar chop pimento',\n",
       " 'jar pimento stuff green olive',\n",
       " 'jar quarter heart water',\n",
       " 'jigger amaretto liqueur',\n",
       " 'jigger bourbon whiskey',\n",
       " 'jigger butterscotch schnapps',\n",
       " 'jigger cake flavor vodka',\n",
       " 'jigger canadian whiskey',\n",
       " 'jigger cherry vodka',\n",
       " 'jigger chocolate vodka',\n",
       " 'jigger citron vodka',\n",
       " 'jigger creme cacao',\n",
       " 'jigger irish cream liqueur',\n",
       " 'jigger irish cream liqueur such',\n",
       " 'jigger lemon flavor rum',\n",
       " 'jigger melon liqueur',\n",
       " 'jigger orange liqueur cointreau',\n",
       " 'jigger pumpkin flavor liqueur such',\n",
       " 'jigger raspberry liqueur',\n",
       " 'jigger raspberry vodka',\n",
       " 'jigger rum dark light',\n",
       " 'jigger spice rum',\n",
       " 'jigger strawberry vodka',\n",
       " 'jigger vanilla vodka',\n",
       " 'jigger vodka optional',\n",
       " 'kikkoman pearl original soymilk',\n",
       " 'long strip lemon zest',\n",
       " 'marshmallow cream such marshmallow fluff',\n",
       " 'mash overripe banana',\n",
       " 'medium orange',\n",
       " 'miniature marshmallow such kraft jet puffed',\n",
       " 'multi color fusilli pasta',\n",
       " 'multicolored candy sprinkle optional',\n",
       " 'mussel',\n",
       " 'oil base peppermint flavoring',\n",
       " 'orange curacao orange flavor liqueur',\n",
       " 'orange liqueur such grand marnier',\n",
       " 'package broccoli coleslaw mix',\n",
       " 'package cavatappi corkscrew macaroni',\n",
       " 'package cocktail rye bread',\n",
       " 'package dry leek soup mix',\n",
       " 'package dry navy bean',\n",
       " 'package dry rotini pasta',\n",
       " 'package seasoned cornbread stuffing mix',\n",
       " 'package shred coleslaw mix',\n",
       " 'package sister dinner yeast',\n",
       " 'package tri color pasta assortment',\n",
       " 'package uncooked farfalle tie pasta',\n",
       " 'package uncooked orzo pasta',\n",
       " 'package uncooked rotini pasta',\n",
       " 'package uncooked tri color rotini pasta',\n",
       " 'packet dry brown gravy mix',\n",
       " 'pastry 10-inch double crust pie',\n",
       " 'paula red apple peel',\n",
       " 'piece lavash other flatbread',\n",
       " 'pimm no gin base liqueur',\n",
       " 'pinch cayenne pepper optional',\n",
       " 'pinch crush coriander seed',\n",
       " 'pinch crush dry rosemary',\n",
       " 'pinch ground nutmeg optional',\n",
       " 'pinot noir other dry red wine',\n",
       " 'pint canning jar lid ring',\n",
       " 'pint fresh blueberry rinse',\n",
       " 'pisco',\n",
       " 'plastic insect optional',\n",
       " 'prosecco italian sparkle wine',\n",
       " 'rainbow pasta',\n",
       " 'reduce fat mayonnaise optional',\n",
       " 'roma tomato',\n",
       " 'rum cream liqueur',\n",
       " 'short stalk celery leaf',\n",
       " 'shred carrot optional',\n",
       " 'shred cook corned beef',\n",
       " 'shred heart romaine lettuce',\n",
       " 'shred mexican style process cheese food',\n",
       " 'shred reduce fat cheddar cheese',\n",
       " 'shred reduce fat monterey jack cheese',\n",
       " 'slice pepperoncini pepper optional',\n",
       " 'slice pit ripe olive optional',\n",
       " 'small frozen banana freeze',\n",
       " 'small sprig mint optional',\n",
       " 'smoke sausage such conecuh ©',\n",
       " 'sprinkle colored sugar decoration',\n",
       " 'strawberry puree frozen sweeten strawberry',\n",
       " 'tear kale leaf bite size piece',\n",
       " 'tequila measure empty limeade',\n",
       " 'tequila such % blue agave',\n",
       " 'triple sec orange flavor liqueur',\n",
       " 'turkey stock pan dripping',\n",
       " 'uncooked glutinous white rice sushi rice',\n",
       " 'uncooked regular long grain white rice',\n",
       " 'uncooked tri color spiral pasta',\n",
       " 'whip cream garnish optional',\n",
       " 'white sugar decoration optional'}"
      ]
     },
     "execution_count": 11,
     "metadata": {},
     "output_type": "execute_result"
    }
   ],
   "source": [
    "not_joined"
   ]
  },
  {
   "cell_type": "code",
   "execution_count": 12,
   "metadata": {},
   "outputs": [],
   "source": [
    "lenset = set()\n",
    "checkset = defaultdict(set)\n",
    "for r in all_recipes:\n",
    "    for index in range(len(r.unit)):\n",
    "        lenset.add(len(r.entities[index].split()))\n",
    "        checkset[len(r.entities[index].split())].add(r.entities[index])"
   ]
  },
  {
   "cell_type": "code",
   "execution_count": 26,
   "metadata": {},
   "outputs": [
    {
     "name": "stdout",
     "output_type": "stream",
     "text": [
      "3964\n"
     ]
    }
   ],
   "source": [
    "print(len(checkset[1])+len(checkset[2])+len(checkset[3])+len(checkset[4])+len(checkset[5])+len(checkset[6]))"
   ]
  },
  {
   "cell_type": "code",
   "execution_count": 27,
   "metadata": {},
   "outputs": [
    {
     "name": "stdout",
     "output_type": "stream",
     "text": [
      "3838\n"
     ]
    }
   ],
   "source": [
    "print(len(grouped_food))"
   ]
  },
  {
   "cell_type": "code",
   "execution_count": 38,
   "metadata": {},
   "outputs": [
    {
     "data": {
      "text/plain": [
       "'McCormick Gourmet Organic Fennel Seed, 1 oz'"
      ]
     },
     "execution_count": 38,
     "metadata": {},
     "output_type": "execute_result"
    }
   ],
   "source": [
    "grouped_food[\"anise extract\"][0][0].name"
   ]
  },
  {
   "cell_type": "code",
   "execution_count": 77,
   "metadata": {},
   "outputs": [],
   "source": [
    "one  = set()\n",
    "with open(\"./1.txt\", \"r\") as f:\n",
    "    for line in f:\n",
    "        one.add(line.strip())\n",
    "two = set()\n",
    "with open(\"./2.txt\", \"r\") as f:\n",
    "    for line in f:\n",
    "        two.add(line.strip())\n",
    "three = set()\n",
    "with open(\"./3.txt\", \"r\") as f:\n",
    "    for line in f:\n",
    "        three.add(line.strip())\n",
    "four = set()\n",
    "with open(\"./4.txt\", \"r\") as f:\n",
    "    for line in f:\n",
    "        four.add(line.strip())\n",
    "five = set()\n",
    "with open(\"./5.txt\", \"r\") as f:\n",
    "    for line in f:\n",
    "        five.add(line.strip())\n",
    "six = set()\n",
    "with open(\"./6.txt\", \"r\") as f:\n",
    "    for line in f:\n",
    "        six.add(line.strip())"
   ]
  },
  {
   "cell_type": "code",
   "execution_count": 87,
   "metadata": {},
   "outputs": [
    {
     "data": {
      "text/plain": [
       "set()"
      ]
     },
     "execution_count": 87,
     "metadata": {},
     "output_type": "execute_result"
    }
   ],
   "source": [
    "checkset[6].difference(six)"
   ]
  },
  {
   "cell_type": "code",
   "execution_count": 226,
   "metadata": {},
   "outputs": [],
   "source": [
    "import random"
   ]
  },
  {
   "cell_type": "code",
   "execution_count": 227,
   "metadata": {},
   "outputs": [],
   "source": [
    "from rdflib import URIRef, BNode, Literal, Namespace, Graph\n",
    "from rdflib.namespace import RDF, RDFS, XSD, NamespaceManager\n",
    "SCHEMA = Namespace(\"http://schema.org/\")\n",
    "namespace_manager = NamespaceManager(Graph())\n",
    "namespace_manager.bind(\"schema\", SCHEMA, override=False)\n",
    "\n",
    "ontologies = Graph()\n",
    "ontologies.namespace_manager = namespace_manager"
   ]
  },
  {
   "cell_type": "code",
   "execution_count": 228,
   "metadata": {},
   "outputs": [],
   "source": [
    "def resolving_url(url):\n",
    "    return url.replace(\".\", \"-\").replace(\":\", \"-\").replace(\"/\", \"-\")"
   ]
  },
  {
   "cell_type": "code",
   "execution_count": null,
   "metadata": {},
   "outputs": [],
   "source": []
  },
  {
   "cell_type": "code",
   "execution_count": 229,
   "metadata": {},
   "outputs": [
    {
     "name": "stdout",
     "output_type": "stream",
     "text": [
      "random price\n",
      "random unit_price\n",
      "random price\n",
      "random unit_price\n",
      "random price\n",
      "random unit_price\n",
      "random price\n",
      "random unit_price\n",
      "random price\n",
      "random unit_price\n",
      "random price\n",
      "random unit_price\n",
      "random price\n",
      "random unit_price\n",
      "random price\n",
      "random unit_price\n",
      "3828 17263\n"
     ]
    }
   ],
   "source": [
    "cnt_1 = 0\n",
    "cnt_2 = 0\n",
    "for r in all_recipes:\n",
    "    tmp = BNode(resolving_url(r.recipe[\"food_url\"]))\n",
    "    ontologies.add((tmp, RDF.type, SCHEMA.recipe))\n",
    "    ontologies.set((tmp, RDF.value, Literal(str(r.recipe[\"food_name\"]), datatype=XSD.string)))\n",
    "    ontologies.set((tmp, SCHEMA.recipe_type, Literal(str(r.recipe[\"type_name\"]), datatype=XSD.string)))\n",
    "    ontologies.set((tmp, SCHEMA.recipe_url, Literal(r.recipe[\"food_url\"])))\n",
    "    ontologies.set((tmp, SCHEMA.type_url, Literal(r.recipe[\"type_url\"])))\n",
    "    ontologies.set((tmp, SCHEMA.ingredient, Literal(r.recipe[\"food_ingredients\"], datatype=XSD.string)))\n",
    "    cnt_1 += 1\n",
    "#     for i in r.recipe[\"food_ingredients\"]:\n",
    "#         ontologies.add((tmp, SCHEMA.ingredient, Literal(i, datatype=XSD.string)))\n",
    "# #     for index, value in enumerate(r.entities): # defined food used by\n",
    "#         if value not in not_joined:\n",
    "#             possible_solution = \n",
    "            \n",
    "#         else:\n",
    "#         self.name = name\n",
    "#         self.topclass = topclass\n",
    "#         self.subclass = subclass\n",
    "#         self.price = price\n",
    "#         self.unit_price = unit_price\n",
    "#         self.unit = unit_price.split(\"/\")[-1]\n",
    "for key, value in grouped_food.items():\n",
    "    for v in value:\n",
    "        tmp = BNode(v[1])\n",
    "        ontologies.add((tmp, RDF.type, SCHEMA.food))\n",
    "        ontologies.set((tmp, RDF.value, Literal(str(v[0].name), datatype=XSD.string)))\n",
    "        ontologies.set((tmp, SCHEMA.topclass, Literal(v[0].topclass)))\n",
    "        ontologies.set((tmp, SCHEMA.subclass, Literal(v[0].subclass)))\n",
    "        try:\n",
    "            ontologies.set((tmp, SCHEMA.price, Literal(float(v[0].price), datatype=XSD.double)))\n",
    "        except:\n",
    "            print(\"random price\")\n",
    "            ontologies.set((tmp, SCHEMA.price, Literal(random.uniform(2.0, 10.0), datatype=XSD.double)))\n",
    "        try:\n",
    "            ontologies.set((tmp, SCHEMA.unit_price, Literal(float(v[0].unit_price), datatype=XSD.double)))\n",
    "        except:\n",
    "            print(\"random unit_price\")\n",
    "            ontologies.set((tmp, SCHEMA.unit_price, Literal(random.uniform(1.0, 2.0), datatype=XSD.double)))\n",
    "        ontologies.set((tmp, SCHEMA.unit, Literal(v[0].unit)))\n",
    "        cnt_2 += 1\n",
    "print(cnt_1, cnt_2)"
   ]
  },
  {
   "cell_type": "code",
   "execution_count": 230,
   "metadata": {},
   "outputs": [],
   "source": [
    "from uuid import uuid4\n",
    "import pdb"
   ]
  },
  {
   "cell_type": "code",
   "execution_count": 231,
   "metadata": {},
   "outputs": [],
   "source": [
    "def solving_amount(entity_tuple):\n",
    "    global mapper\n",
    "    amount = entity_tuple[0]\n",
    "    unit = entity_tuple[1]\n",
    "    entities = entity_tuple[2]\n",
    "    unit = mapper[unit][0]\n",
    "    amount *= mapper[unit][1]\n",
    "    return (amount, unit, entities)"
   ]
  },
  {
   "cell_type": "code",
   "execution_count": 232,
   "metadata": {},
   "outputs": [
    {
     "data": {
      "text/plain": [
       "(1, 'liter', 'hello')"
      ]
     },
     "execution_count": 232,
     "metadata": {},
     "output_type": "execute_result"
    }
   ],
   "source": [
    "solving_amount((1,\"cup\", \"hello\"))"
   ]
  },
  {
   "cell_type": "code",
   "execution_count": 233,
   "metadata": {},
   "outputs": [],
   "source": [
    "def two_way_sorting(candidate, value):\n",
    "    checker_sort = defaultdict(list)\n",
    "    candidate_idf = []\n",
    "    for i, v in enumerate(candidate):     \n",
    "        checker_sort[v[1]].append(jaro_winkler_distance(v[0].name.lower(), value))\n",
    "        idf_res = tf_idf_score(v[0].name.lower(), value)\n",
    "        checker_sort[v[1]].append(idf_res)\n",
    "        if idf_res > 0.06:\n",
    "            candidate_idf.append(v)\n",
    "    if candidate_idf:\n",
    "        candidate_idf.sort(key=lambda x:checker_sort[x[1]][0])\n",
    "        return candidate_idf[0]\n",
    "    candidate.sort(key=lambda x: checker_sort[x[1]][0], reverse=False)\n",
    "    return candidate[0]"
   ]
  },
  {
   "cell_type": "code",
   "execution_count": 234,
   "metadata": {},
   "outputs": [],
   "source": [
    "def tf_idf_score(v, value):\n",
    "    tfidf = TF_IDF()\n",
    "    tfidf.add_document(\"ground\", value.split())\n",
    "    tfidf.add_document(\"target\", v.split())\n",
    "    tfidf.pre_compute()\n",
    "    return tfidf.similarity(\"target\", \"ground\")"
   ]
  },
  {
   "cell_type": "code",
   "execution_count": 235,
   "metadata": {},
   "outputs": [
    {
     "name": "stdout",
     "output_type": "stream",
     "text": [
      "Organic Green Leaf Lettuce, 1 Head\n"
     ]
    }
   ],
   "source": [
    "res=two_way_sorting(grouped_food[\"leaf lettuce\"],\"rua\")\n",
    "print(res[0].name)"
   ]
  },
  {
   "cell_type": "code",
   "execution_count": 236,
   "metadata": {},
   "outputs": [
    {
     "name": "stdout",
     "output_type": "stream",
     "text": [
      "(1.25, 'liter', 'butter')\n"
     ]
    }
   ],
   "source": [
    "print(solving_amount((all_recipes[0].number[0], all_recipes[0].unit[0], all_recipes[0].entities[0])))"
   ]
  },
  {
   "cell_type": "code",
   "execution_count": 237,
   "metadata": {},
   "outputs": [
    {
     "name": "stdout",
     "output_type": "stream",
     "text": [
      "31720\n"
     ]
    }
   ],
   "source": [
    "# usedby\n",
    "cnt_3 = 0\n",
    "for r in all_recipes:\n",
    "    for index, value in enumerate(r.entities):\n",
    "        if value != \"not valid\":\n",
    "            food_candidates = grouped_food[value]\n",
    "            if food_candidates:\n",
    "                using_food = two_way_sorting(food_candidates,value)\n",
    "                recipe = BNode(resolving_url(r.recipe[\"food_url\"]))\n",
    "                cnt_3 += 1\n",
    "                food = BNode(using_food[1])\n",
    "                relation = BNode(uuid4())\n",
    "                ontologies.add((relation, RDF.type, SCHEMA.usedby))\n",
    "                ontologies.set((relation, SCHEMA.inrecipe, recipe))\n",
    "                ontologies.set((relation, SCHEMA.forfood, food))\n",
    "                res = solving_amount((r.number[index], r.unit[index], r.entities[index]))\n",
    "                if res[1] == using_food[0].unit:\n",
    "                    ontologies.set((relation, SCHEMA.amount, Literal(float(res[0]), datatype=XSD.double)))\n",
    "                    ontologies.set((relation, SCHEMA.unit, Literal(str(res[1]))))\n",
    "                else:\n",
    "                    ontologies.set((relation, SCHEMA.amount, Literal(float(res[0]*unit_change[(res[1], using_food[0].unit)]), datatype=XSD.double)))\n",
    "                    ontologies.set((relation, SCHEMA.unit, Literal(str(using_food[0].unit))))\n",
    "                try:\n",
    "                    ontologies.set((relation, SCHEMA.unit_price, Literal(float(v[0].unit_price), datatype=XSD.double)))\n",
    "                except:\n",
    "                    print(\"random unit_price\")\n",
    "                    ontologies.set((relation, SCHEMA.unit_price, Literal(random.uniform(1.0, 2.0), datatype=XSD.double)))\n",
    "print(cnt_3)\n"
   ]
  },
  {
   "cell_type": "code",
   "execution_count": 238,
   "metadata": {},
   "outputs": [],
   "source": [
    "ontologies.serialize(destination=\"recipe_food.ttl\" ,format='turtle')"
   ]
  },
  {
   "cell_type": "code",
   "execution_count": 30,
   "metadata": {},
   "outputs": [],
   "source": [
    "for g in grouped_food:\n",
    "    if not grouped_food[g]:\n",
    "        print(g)"
   ]
  },
  {
   "cell_type": "code",
   "execution_count": 79,
   "metadata": {},
   "outputs": [],
   "source": [
    "c  = 0\n",
    "for r in all_recipes:\n",
    "    for index in r.entities:\n",
    "        c += 1\n",
    "        "
   ]
  },
  {
   "cell_type": "code",
   "execution_count": 82,
   "metadata": {},
   "outputs": [
    {
     "data": {
      "text/plain": [
       "31720"
      ]
     },
     "execution_count": 82,
     "metadata": {},
     "output_type": "execute_result"
    }
   ],
   "source": [
    "cnt_3"
   ]
  },
  {
   "cell_type": "code",
   "execution_count": 173,
   "metadata": {},
   "outputs": [],
   "source": [
    "mismatching={}\n",
    "for r in all_recipes:\n",
    "    for index, value in enumerate(r.entities):\n",
    "        if value != \"not valid\":\n",
    "            food_candidates = grouped_food[value]\n",
    "            if food_candidates:\n",
    "                using_food = two_way_sorting(food_candidates,value)\n",
    "#                 recipe = BNode(resolving_url(r.recipe[\"food_url\"]))\n",
    "                if using_food[0].unit != mapper[r.unit[index]][0]:\n",
    "                    mismatching[(mapper[r.unit[index]][0], using_food[0].unit)] = mismatching.get((mapper[r.unit[index]][0], using_food[0].unit), 0)+1\n",
    "                \n",
    "                "
   ]
  },
  {
   "cell_type": "code",
   "execution_count": 174,
   "metadata": {},
   "outputs": [
    {
     "data": {
      "text/plain": [
       "{('liter', 'oz'): 7982,\n",
       " ('gram', 'liter'): 1215,\n",
       " ('gram', 'oz'): 5965,\n",
       " ('DEFAULT', 'oz'): 5575,\n",
       " ('liter', 'pound'): 274,\n",
       " ('pound', 'oz'): 276,\n",
       " ('pound', 'DEFAULT'): 311,\n",
       " ('gram', 'DEFAULT'): 766,\n",
       " ('liter', 'DEFAULT'): 817,\n",
       " ('DEFAULT', 'liter'): 568,\n",
       " ('oz', 'DEFAULT'): 292,\n",
       " ('gram', 'pound'): 23,\n",
       " ('liter', 'ounce'): 2,\n",
       " ('quart', 'oz'): 46,\n",
       " ('oz', 'liter'): 129,\n",
       " ('DEFAULT', 'pound'): 435,\n",
       " ('quart', 'liter'): 21,\n",
       " ('oz', 'pound'): 90,\n",
       " ('quart', 'DEFAULT'): 6,\n",
       " ('liter', 'kg'): 13,\n",
       " ('DEFAULT', 'kg'): 26,\n",
       " ('oz', 'ounce'): 1,\n",
       " ('pound', 'liter'): 2,\n",
       " ('gram', 'kg'): 5,\n",
       " ('gram', 'ounce'): 7,\n",
       " ('oz', 'kg'): 1,\n",
       " ('DEFAULT', 'teaspoon'): 1}"
      ]
     },
     "execution_count": 174,
     "metadata": {},
     "output_type": "execute_result"
    }
   ],
   "source": [
    "mismatching"
   ]
  },
  {
   "cell_type": "code",
   "execution_count": 175,
   "metadata": {},
   "outputs": [
    {
     "name": "stdout",
     "output_type": "stream",
     "text": [
      "dict_keys([('liter', 'oz'), ('gram', 'liter'), ('gram', 'oz'), ('DEFAULT', 'oz'), ('liter', 'pound'), ('pound', 'oz'), ('pound', 'DEFAULT'), ('gram', 'DEFAULT'), ('liter', 'DEFAULT'), ('DEFAULT', 'liter'), ('oz', 'DEFAULT'), ('gram', 'pound'), ('liter', 'ounce'), ('quart', 'oz'), ('oz', 'liter'), ('DEFAULT', 'pound'), ('quart', 'liter'), ('oz', 'pound'), ('quart', 'DEFAULT'), ('liter', 'kg'), ('DEFAULT', 'kg'), ('oz', 'ounce'), ('pound', 'liter'), ('gram', 'kg'), ('gram', 'ounce'), ('oz', 'kg'), ('DEFAULT', 'teaspoon')])\n"
     ]
    }
   ],
   "source": [
    "print(mismatching.keys())"
   ]
  },
  {
   "cell_type": "code",
   "execution_count": 225,
   "metadata": {},
   "outputs": [],
   "source": [
    "unit_change={('liter', 'oz'):3.3814, ('gram', 'liter'):0.001, ('gram', 'oz'):0.035, ('DEFAULT', 'oz'):1, ('liter', 'pound'):2.20, ('pound', 'oz'):16, ('pound', 'DEFAULT'):1, ('gram', 'DEFAULT'):1, ('liter', 'DEFAULT'):1, ('DEFAULT', 'liter'):1, ('oz', 'DEFAULT'):1, ('gram', 'pound'):0.0022, ('liter', 'ounce'):33.814, ('quart', 'oz'):32, ('oz', 'liter'):0.029, ('DEFAULT', 'pound'):1, ('quart', 'liter'):0.94, ('oz', 'pound'):0.0625, ('quart', 'DEFAULT'):1, ('liter', 'kg'):1, ('DEFAULT', 'kg'):1, ('oz', 'ounce'):1, ('pound', 'liter'):0.45, ('gram', 'kg'):0.001, ('gram', 'ounce'):0.035, ('oz', 'kg'):0.028, ('DEFAULT', 'teaspoon'):1}"
   ]
  },
  {
   "cell_type": "code",
   "execution_count": 177,
   "metadata": {},
   "outputs": [
    {
     "data": {
      "text/plain": [
       "{('gram', 'kg'): 0.001}"
      ]
     },
     "execution_count": 177,
     "metadata": {},
     "output_type": "execute_result"
    }
   ],
   "source": [
    "{('gram', 'kg'):0.001}"
   ]
  },
  {
   "cell_type": "code",
   "execution_count": null,
   "metadata": {},
   "outputs": [],
   "source": []
  }
 ],
 "metadata": {
  "kernelspec": {
   "display_name": "Python [conda env:miniconda3]",
   "language": "python",
   "name": "conda-env-miniconda3-py"
  },
  "language_info": {
   "codemirror_mode": {
    "name": "ipython",
    "version": 3
   },
   "file_extension": ".py",
   "mimetype": "text/x-python",
   "name": "python",
   "nbconvert_exporter": "python",
   "pygments_lexer": "ipython3",
   "version": "3.6.5"
  }
 },
 "nbformat": 4,
 "nbformat_minor": 2
}

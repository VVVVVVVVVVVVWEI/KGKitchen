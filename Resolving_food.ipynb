{
 "cells": [
  {
   "cell_type": "code",
   "execution_count": 1,
   "metadata": {},
   "outputs": [],
   "source": [
    "import json"
   ]
  },
  {
   "cell_type": "code",
   "execution_count": 30,
   "metadata": {},
   "outputs": [],
   "source": [
    "with open('./amazon/price_1.txt', \"r\") as f:\n",
    "    price_1=json.load(f)\n",
    "with open('./amazon/price_2.txt', \"r\") as f:\n",
    "    price_2=json.load(f)\n",
    "with open('./amazon/price_3.txt', \"r\") as f:\n",
    "    price_3=json.load(f)\n",
    "with open('./amazon/price_4.txt', \"r\") as f:\n",
    "    price_4=json.load(f)\n",
    "with open('./amazon/price_5.txt', \"r\") as f:\n",
    "    price_5=json.load(f)\n",
    "with open('./amazon/price_6.txt', \"r\") as f:\n",
    "    price_6=json.load(f)\n",
    "    "
   ]
  },
  {
   "cell_type": "code",
   "execution_count": 3,
   "metadata": {},
   "outputs": [
    {
     "data": {
      "text/plain": [
       "212"
      ]
     },
     "execution_count": 3,
     "metadata": {},
     "output_type": "execute_result"
    }
   ],
   "source": [
    "len(price_1)"
   ]
  },
  {
   "cell_type": "code",
   "execution_count": 29,
   "metadata": {},
   "outputs": [],
   "source": [
    "# item_1=[]\n",
    "# with open(\"./1.txt\", \"r\") as f:\n",
    "#     for line in f:\n",
    "#         item_1.append(line.strip())\n",
    "one  = set()\n",
    "with open(\"./1.txt\", \"r\") as f:\n",
    "    for line in f:\n",
    "        one.add(line.strip())\n",
    "two = set()\n",
    "with open(\"./2.txt\", \"r\") as f:\n",
    "    for line in f:\n",
    "        two.add(line.strip())\n",
    "three = set()\n",
    "with open(\"./3.txt\", \"r\") as f:\n",
    "    for line in f:\n",
    "        three.add(line.strip())\n",
    "four = set()\n",
    "with open(\"./4.txt\", \"r\") as f:\n",
    "    for line in f:\n",
    "        four.add(line.strip())\n",
    "five = set()\n",
    "with open(\"./5.txt\", \"r\") as f:\n",
    "    for line in f:\n",
    "        five.add(line.strip())\n",
    "six = set()\n",
    "with open(\"./6.txt\", \"r\") as f:\n",
    "    for line in f:\n",
    "        six.add(line.strip())"
   ]
  },
  {
   "cell_type": "code",
   "execution_count": 32,
   "metadata": {},
   "outputs": [
    {
     "data": {
      "text/plain": [
       "True"
      ]
     },
     "execution_count": 32,
     "metadata": {},
     "output_type": "execute_result"
    }
   ],
   "source": [
    "len(price_1) == len(one)"
   ]
  },
  {
   "cell_type": "code",
   "execution_count": 33,
   "metadata": {},
   "outputs": [
    {
     "data": {
      "text/plain": [
       "True"
      ]
     },
     "execution_count": 33,
     "metadata": {},
     "output_type": "execute_result"
    }
   ],
   "source": [
    "len(price_2) == len(two)"
   ]
  },
  {
   "cell_type": "code",
   "execution_count": 34,
   "metadata": {},
   "outputs": [
    {
     "data": {
      "text/plain": [
       "True"
      ]
     },
     "execution_count": 34,
     "metadata": {},
     "output_type": "execute_result"
    }
   ],
   "source": [
    "len(price_3) == len(three)"
   ]
  },
  {
   "cell_type": "code",
   "execution_count": 35,
   "metadata": {},
   "outputs": [
    {
     "data": {
      "text/plain": [
       "True"
      ]
     },
     "execution_count": 35,
     "metadata": {},
     "output_type": "execute_result"
    }
   ],
   "source": [
    "len(price_4) == len(four)"
   ]
  },
  {
   "cell_type": "code",
   "execution_count": 36,
   "metadata": {},
   "outputs": [
    {
     "data": {
      "text/plain": [
       "True"
      ]
     },
     "execution_count": 36,
     "metadata": {},
     "output_type": "execute_result"
    }
   ],
   "source": [
    "len(price_5) == len(five)\n"
   ]
  },
  {
   "cell_type": "code",
   "execution_count": null,
   "metadata": {},
   "outputs": [],
   "source": [
    "len(price_6) == len(six)"
   ]
  },
  {
   "cell_type": "code",
   "execution_count": 20,
   "metadata": {},
   "outputs": [],
   "source": [
    "import spacy\n",
    "import regex\n",
    "import json\n",
    "from collections import Counter\n",
    "nlp =  spacy.load('en_core_web_lg')\n",
    "from spacy.lemmatizer import Lemmatizer\n",
    "from spacy.lang.en import LEMMA_INDEX, LEMMA_EXC, LEMMA_RULES\n",
    "from spacy.tokenizer import Tokenizer\n",
    "Tokenizer = Tokenizer(nlp.vocab)\n",
    "Lemmatizer = Lemmatizer(LEMMA_INDEX, LEMMA_EXC, LEMMA_RULES)"
   ]
  },
  {
   "cell_type": "code",
   "execution_count": 21,
   "metadata": {},
   "outputs": [],
   "source": [
    "def lemmatizer(text):\n",
    "    return nlp(\" \".join(list(map(lambda x: x.lemma_,nlp(text)))))"
   ]
  },
  {
   "cell_type": "code",
   "execution_count": 24,
   "metadata": {},
   "outputs": [],
   "source": [
    "tmp=nlp(\"$3.23/default\")\n",
    "recog = [(d.text, d.label_) for d in tmp.ents]"
   ]
  },
  {
   "cell_type": "code",
   "execution_count": 25,
   "metadata": {},
   "outputs": [
    {
     "data": {
      "text/plain": [
       "[('3.23/default', 'MONEY')]"
      ]
     },
     "execution_count": 25,
     "metadata": {},
     "output_type": "execute_result"
    }
   ],
   "source": [
    "recog"
   ]
  },
  {
   "cell_type": "code",
   "execution_count": 28,
   "metadata": {},
   "outputs": [],
   "source": [
    "# all_v = set()\n",
    "# for v in range(1, 7):\n",
    "#     with open(\"./amazon/price_\"+str(v)+\".txt\") as f:\n",
    "#         data = json.load(f)\n",
    "#         for d in data:\n",
    "#             for v in d.values():\n",
    "#                 for itm in v.values():\n",
    "#                     for i in itm:\n",
    "#                         all_v.add(i[\"unit_price\"])"
   ]
  },
  {
   "cell_type": "markdown",
   "metadata": {},
   "source": [
    "### define food class"
   ]
  },
  {
   "cell_type": "code",
   "execution_count": 187,
   "metadata": {},
   "outputs": [],
   "source": [
    "class food_entity:\n",
    "    def __init__(self, topclass, subclass, name, price, unit_price):\n",
    "        self.name = name\n",
    "        self.topclass = topclass\n",
    "        self.subclass = subclass\n",
    "        self.price = price\n",
    "        self.unit_price = unit_price\n",
    "        self.unit = unit_price.split(\"/\")[-1]\n",
    "    \n",
    "    def __str__(self):\n",
    "        return str((self.topclass, self.name, self.subclass, self.price, self.unit_price))"
   ]
  },
  {
   "cell_type": "code",
   "execution_count": 188,
   "metadata": {},
   "outputs": [],
   "source": [
    "all_food_list = [price_1, price_2, price_3, price_4, price_5, price_6]"
   ]
  },
  {
   "cell_type": "code",
   "execution_count": 189,
   "metadata": {},
   "outputs": [],
   "source": [
    "all_food = []"
   ]
  },
  {
   "cell_type": "code",
   "execution_count": 190,
   "metadata": {},
   "outputs": [],
   "source": [
    "for food_list in all_food_list:\n",
    "    for food_name in food_list:\n",
    "        for name, food_under_name in food_name.items():\n",
    "            for food in food_under_name:\n",
    "                for k, values in food.items():\n",
    "                    if values:\n",
    "                        for value in values:\n",
    "                            all_food.append(food_entity(name, k, value[\"name\"], value[\"price\"], value[\"unit_price\"]))\n",
    "#                 for k, v in enumerate(food.items()):\n",
    "# #             for k, v in enumerate(food_under_name.items()):\n",
    "#                     all_food.append(food_entity(name, k, food[\"name\"], food[\"price\"], food[\"unit_price\"]))\n",
    "                \n",
    "        "
   ]
  },
  {
   "cell_type": "code",
   "execution_count": 191,
   "metadata": {},
   "outputs": [
    {
     "data": {
      "text/plain": [
       "{'carton cream': [{'price': '$2.50',\n",
       "   'name': 'Pacific Foods Organic Cream of Mushroom Condensed Soup, 12oz',\n",
       "   'unit_price': '$0.21/Ounce'},\n",
       "  {'price': '$9.99',\n",
       "   'name': 'Premier Protein 30g Protein Shakes, Vanilla, 11 Fluid Ounces (Pack of 4)',\n",
       "   'unit_price': '$0.23/Fl'}]}"
      ]
     },
     "execution_count": 191,
     "metadata": {},
     "output_type": "execute_result"
    }
   ],
   "source": [
    "all_food_list[2][12]['carton sour cream'][1]"
   ]
  },
  {
   "cell_type": "code",
   "execution_count": 206,
   "metadata": {},
   "outputs": [],
   "source": [
    "grouped_food  = {}\n",
    "for v in all_food:\n",
    "    grouped_food[v.topclass] = v"
   ]
  },
  {
   "cell_type": "code",
   "execution_count": 208,
   "metadata": {},
   "outputs": [],
   "source": [
    "names = set()\n",
    "for food_list in all_food_list:\n",
    "    for food_name in food_list:\n",
    "        for name, food_under_name in food_name.items():\n",
    "            names.add(name)"
   ]
  },
  {
   "cell_type": "code",
   "execution_count": 211,
   "metadata": {},
   "outputs": [
    {
     "data": {
      "text/plain": [
       "3973"
      ]
     },
     "execution_count": 211,
     "metadata": {},
     "output_type": "execute_result"
    }
   ],
   "source": [
    "len(names)"
   ]
  },
  {
   "cell_type": "code",
   "execution_count": 207,
   "metadata": {},
   "outputs": [
    {
     "data": {
      "text/plain": [
       "3838"
      ]
     },
     "execution_count": 207,
     "metadata": {},
     "output_type": "execute_result"
    }
   ],
   "source": [
    "len(grouped_food)"
   ]
  },
  {
   "cell_type": "code",
   "execution_count": 192,
   "metadata": {},
   "outputs": [
    {
     "data": {
      "text/plain": [
       "80"
      ]
     },
     "execution_count": 192,
     "metadata": {},
     "output_type": "execute_result"
    }
   ],
   "source": [
    "len(food_list)"
   ]
  },
  {
   "cell_type": "code",
   "execution_count": 193,
   "metadata": {},
   "outputs": [
    {
     "data": {
      "text/plain": [
       "\"('bunch fresh asparagus', 'Organic Asparagus, 1 Bunch', 'bunch fresh asparagus', '$9.71', '$9.71/default')\""
      ]
     },
     "execution_count": 193,
     "metadata": {},
     "output_type": "execute_result"
    }
   ],
   "source": [
    "str(all_food[10000])"
   ]
  },
  {
   "cell_type": "code",
   "execution_count": 194,
   "metadata": {},
   "outputs": [
    {
     "data": {
      "text/plain": [
       "17263"
      ]
     },
     "execution_count": 194,
     "metadata": {},
     "output_type": "execute_result"
    }
   ],
   "source": [
    "len(all_food)"
   ]
  },
  {
   "cell_type": "markdown",
   "metadata": {},
   "source": [
    "### analyzing units"
   ]
  },
  {
   "cell_type": "code",
   "execution_count": 195,
   "metadata": {},
   "outputs": [],
   "source": [
    "import regex\n",
    "from collections import defaultdict"
   ]
  },
  {
   "cell_type": "code",
   "execution_count": 196,
   "metadata": {},
   "outputs": [],
   "source": [
    "all_units = {}\n",
    "for a in all_food:\n",
    "    tmp = a.unit_price.split(\"/\")\n",
    "#     a.unit\n",
    "    all_units[tmp[1]] = all_units.get(tmp[1], 0)+1"
   ]
  },
  {
   "cell_type": "code",
   "execution_count": 197,
   "metadata": {},
   "outputs": [
    {
     "data": {
      "text/plain": [
       "{'Ounce': 10992,\n",
       " 'default': 2533,\n",
       " 'Fl': 885,\n",
       " 'oz': 1007,\n",
       " 'Pound': 988,\n",
       " 'Count': 701,\n",
       " 'Cans': 4,\n",
       " 'fl': 20,\n",
       " '100': 32,\n",
       " 'kg': 35,\n",
       " 'ounce': 14,\n",
       " 'lb': 4,\n",
       " 'load': 4,\n",
       " 'Serving': 4,\n",
       " 'each': 2,\n",
       " 'Sweetner': 3,\n",
       " 'Gram': 2,\n",
       " 'sq': 2,\n",
       " 'Trash': 7,\n",
       " 'Litres': 7,\n",
       " 'canister': 7,\n",
       " 'ERROR:#VALUE!': 2,\n",
       " 'count': 4,\n",
       " 'ft': 1,\n",
       " 'Sheets': 1,\n",
       " 'qt': 1,\n",
       " 'ounces': 1}"
      ]
     },
     "execution_count": 197,
     "metadata": {},
     "output_type": "execute_result"
    }
   ],
   "source": [
    "all_units"
   ]
  },
  {
   "cell_type": "code",
   "execution_count": 198,
   "metadata": {},
   "outputs": [],
   "source": [
    "# rules\n",
    "mapper = {\"oz\":\"oz\",\"kg\":\"kg\",\"ounce\":\"ounce\",\"Ounce\":\"oz\", \"default\":\"DEFAULT\", \"Fl\":\"liter\", \"Pound\":\"pound\", \"Count\":\"DEFAULT\", \"Cans\":\"DEFAULT\", \"fl\":\"liter\", \"lb\":\"pound\", \"load\":\"DEFAULT\",\"100\":\"DEFAULT\", \"Serving\":\"DEFAULT\", \"serving\":\"DEFAULT\", \"each\":\"DEFAULT\", \"Sweetner\":\"DEFAULT\", \"Gram\":\"gram\", \"qt\":\"quart\", \"sq\":\"teaspoon\", \"Trash\":\"DEFAULT\", \"Litres\":\"DEFAULT\", \"canister\":\"tablespoon\", \"ERROR:#VALUE!\":\"DEFAULT\", \"count\":\"DEFAULT\", \"ft\":\"DEFAULT\", \"Sheets\":\"DEFAULT\", \"ounces\":\"ounce\"}"
   ]
  },
  {
   "cell_type": "code",
   "execution_count": 199,
   "metadata": {},
   "outputs": [],
   "source": [
    "recipe_units = {'DEFAULT',\n",
    " 'cube',\n",
    " 'cup',\n",
    " 'gallon',\n",
    " 'gram',\n",
    " 'inch',\n",
    " 'liter',\n",
    " 'milliliter',\n",
    " 'not valid',\n",
    " 'ounce',\n",
    " 'oz',\n",
    " 'pound',\n",
    " 'quart',\n",
    " 'tablespoon',\n",
    " 'teaspoon'}"
   ]
  },
  {
   "cell_type": "code",
   "execution_count": 200,
   "metadata": {},
   "outputs": [],
   "source": [
    "import pickle"
   ]
  },
  {
   "cell_type": "code",
   "execution_count": 201,
   "metadata": {},
   "outputs": [],
   "source": [
    "for a in all_units:\n",
    "    if a not in mapper:\n",
    "        print(a)"
   ]
  },
  {
   "cell_type": "code",
   "execution_count": 202,
   "metadata": {},
   "outputs": [],
   "source": [
    "for f in all_food:\n",
    "    tmp = f.unit_price.split(\"/\")\n",
    "    tmp[1] = mapper[tmp[1]]\n",
    "    f.price = f.price[1:]\n",
    "    f.unit_price = tmp[0][1:]\n",
    "    f.unit = tmp[1]"
   ]
  },
  {
   "cell_type": "code",
   "execution_count": 203,
   "metadata": {},
   "outputs": [],
   "source": [
    "test = set()\n",
    "for f in all_food:\n",
    "    test.add(f.unit)"
   ]
  },
  {
   "cell_type": "code",
   "execution_count": 204,
   "metadata": {},
   "outputs": [],
   "source": [
    "with open(\"./food.pkl\", \"wb\") as f:\n",
    "    pickle.dump(all_food, f)"
   ]
  },
  {
   "cell_type": "code",
   "execution_count": 205,
   "metadata": {},
   "outputs": [
    {
     "name": "stdout",
     "output_type": "stream",
     "text": [
      "('nectarine', 'Red Seedless Grapes, 2 lb', 'nectarine', '3.51', '0.11') oz\n"
     ]
    }
   ],
   "source": [
    "print(all_food[0], all_food[0].unit)"
   ]
  },
  {
   "cell_type": "code",
   "execution_count": null,
   "metadata": {},
   "outputs": [],
   "source": []
  }
 ],
 "metadata": {
  "kernelspec": {
   "display_name": "Python [conda env:miniconda3]",
   "language": "python",
   "name": "conda-env-miniconda3-py"
  },
  "language_info": {
   "codemirror_mode": {
    "name": "ipython",
    "version": 3
   },
   "file_extension": ".py",
   "mimetype": "text/x-python",
   "name": "python",
   "nbconvert_exporter": "python",
   "pygments_lexer": "ipython3",
   "version": "3.6.5"
  }
 },
 "nbformat": 4,
 "nbformat_minor": 2
}

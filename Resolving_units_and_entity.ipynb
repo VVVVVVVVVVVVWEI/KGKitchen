{
 "cells": [
  {
   "cell_type": "code",
   "execution_count": 1,
   "metadata": {},
   "outputs": [],
   "source": [
    "import json\n",
    "import pickle\n",
    "from functools import reduce\n",
    "from collections import defaultdict"
   ]
  },
  {
   "cell_type": "code",
   "execution_count": 8,
   "metadata": {},
   "outputs": [],
   "source": [
    "class entity:\n",
    "    def __init__(self, recipe):\n",
    "        self.recipe = recipe\n",
    "        self.ingredient = [x for x in recipe[\"food_ingredients\"]]\n",
    "        self.number = [0.0 for x in recipe[\"food_ingredients\"]]\n",
    "        self.unit = [\"TBD\" for x in recipe[\"food_ingredients\"]]\n",
    "        self.entities = [\"TBD\" for x in recipe[\"food_ingredients\"]]\n",
    "#         self.failure\n",
    "#         self.recipe_triple = []\n",
    "    def get_nlpres(self, nlp_output, index):\n",
    "        if not nlp_output:\n",
    "            self.number[index]=\"TBD\"\n",
    "            self.unit[index] = \"TBD\"\n",
    "            self.entities[index] = \"TBD\"\n",
    "#             print(\"\")\n",
    "            return\n",
    "        res = 0.0\n",
    "        for v in nlp_output:\n",
    "            if v[1] != 'CARDINAL' and v[1] != \"QUANTITY\":\n",
    "#                 print(v)\n",
    "                pass\n",
    "            elif v[1] == \"CARDINAL\":\n",
    "                vals = v[0].split()\n",
    "#                 res = 0.0\n",
    "                for _ in vals:\n",
    "                    try:\n",
    "                        res+=eval(_)\n",
    "                    except:\n",
    "                        break\n",
    "                self.number[index]=res\n",
    "        \n",
    "#                 self.unit.append(\"TBD\")\n",
    "#                 self.entities.append(\"TBD\")\n",
    "            else:\n",
    "                vals = v[0].split()\n",
    "#                 res = 0.0\n",
    "                for _ in vals:\n",
    "                    try:\n",
    "                        res += eval(_)\n",
    "                    except:\n",
    "                        self.unit[index] = _\n",
    "                        break\n",
    "                self.number[index] = res\n",
    "#                 self.entities.append(\"TBD\")\n",
    "            #TBD as default since cannot find"
   ]
  },
  {
   "cell_type": "code",
   "execution_count": 84,
   "metadata": {},
   "outputs": [
    {
     "data": {
      "text/plain": [
       "['cup', 'cup', 'teaspoon', 'cup', 'teaspoon', 'cup', 'cup', 'DEFAULT']"
      ]
     },
     "execution_count": 84,
     "metadata": {},
     "output_type": "execute_result"
    }
   ],
   "source": [
    "recipes[0].unit"
   ]
  },
  {
   "cell_type": "code",
   "execution_count": 85,
   "metadata": {},
   "outputs": [],
   "source": [
    "recipes = pickle.load(open(\"./third_round_extraction.pkl\", \"rb\"))"
   ]
  },
  {
   "cell_type": "code",
   "execution_count": 86,
   "metadata": {},
   "outputs": [
    {
     "data": {
      "text/plain": [
       "['__class__',\n",
       " '__delattr__',\n",
       " '__dict__',\n",
       " '__dir__',\n",
       " '__doc__',\n",
       " '__eq__',\n",
       " '__format__',\n",
       " '__ge__',\n",
       " '__getattribute__',\n",
       " '__gt__',\n",
       " '__hash__',\n",
       " '__init__',\n",
       " '__init_subclass__',\n",
       " '__le__',\n",
       " '__lt__',\n",
       " '__module__',\n",
       " '__ne__',\n",
       " '__new__',\n",
       " '__reduce__',\n",
       " '__reduce_ex__',\n",
       " '__repr__',\n",
       " '__setattr__',\n",
       " '__sizeof__',\n",
       " '__str__',\n",
       " '__subclasshook__',\n",
       " '__weakref__',\n",
       " 'entities',\n",
       " 'get_nlpres',\n",
       " 'ingredient',\n",
       " 'number',\n",
       " 'recipe',\n",
       " 'unit']"
      ]
     },
     "execution_count": 86,
     "metadata": {},
     "output_type": "execute_result"
    }
   ],
   "source": [
    "dir(recipes[0])"
   ]
  },
  {
   "cell_type": "code",
   "execution_count": 87,
   "metadata": {},
   "outputs": [],
   "source": [
    "all_units = reduce(lambda x,y:x.union(y) ,(map(lambda x: set(x.unit), recipes)))"
   ]
  },
  {
   "cell_type": "code",
   "execution_count": 88,
   "metadata": {},
   "outputs": [
    {
     "data": {
      "text/plain": [
       "14"
      ]
     },
     "execution_count": 88,
     "metadata": {},
     "output_type": "execute_result"
    }
   ],
   "source": [
    "len(all_units)"
   ]
  },
  {
   "cell_type": "code",
   "execution_count": null,
   "metadata": {},
   "outputs": [],
   "source": []
  },
  {
   "cell_type": "markdown",
   "metadata": {},
   "source": [
    "## Solving units\n",
    "### First Round Res:\n",
    "\n",
    "\"4x4-inch\", \"1-inch\", \"1/2-inch\", \"1/8-inch\", \"12-inch\", \"2-inch\", \"degree\", \"f/45\", \"fluid\", \"12x12\", \"half\"  -> remove inches out,in nlp again\n",
    "\n",
    "\"caramel\", \"chicken\", \"cloves\",\"garlic\", \"graham\", \"ice\", \"maraschino\", \"pint\", \"portobello\", \"whole\", \"(\" -> DEFAULT\n",
    "\n",
    "\"cube\", 'cup', \"gallon\", \"gram\",\"liter\", \"milliliter\", \"oz\", \"pound\", \"quart\", \"tablespoon\", \"teaspoon\"\n",
    "\n",
    "\"ounce\" to \"oz\"\n",
    "\n",
    "\"not valid\", \"red\", \"yellow\" Remove\n",
    "\n",
    "\"skinless\" -> in entity, change it to \"chicken breast halves\", in unit, change to default and add entities as \"chicken breast halves\""
   ]
  },
  {
   "cell_type": "code",
   "execution_count": 89,
   "metadata": {},
   "outputs": [],
   "source": [
    "all_foods = reduce(lambda x,y:x.union(y) ,(map(lambda x: set(x.entities), recipes)))"
   ]
  },
  {
   "cell_type": "code",
   "execution_count": 90,
   "metadata": {},
   "outputs": [],
   "source": [
    "# statistic:\n",
    "lenthoffoods = defaultdict(set)\n",
    "for a in all_foods:\n",
    "    lenthoffoods[len(a.split())].add(a)"
   ]
  },
  {
   "cell_type": "code",
   "execution_count": 91,
   "metadata": {},
   "outputs": [
    {
     "data": {
      "text/plain": [
       "dict_keys([0, 4, 5, 3, 2, 6, 7, 1, 8, 10, 9, 11])"
      ]
     },
     "execution_count": 91,
     "metadata": {},
     "output_type": "execute_result"
    }
   ],
   "source": [
    "lenthoffoods.keys()"
   ]
  },
  {
   "cell_type": "code",
   "execution_count": 92,
   "metadata": {},
   "outputs": [
    {
     "data": {
      "text/plain": [
       "53"
      ]
     },
     "execution_count": 92,
     "metadata": {},
     "output_type": "execute_result"
    }
   ],
   "source": [
    "len(lenthoffoods[7])"
   ]
  },
  {
   "cell_type": "code",
   "execution_count": 93,
   "metadata": {},
   "outputs": [
    {
     "data": {
      "text/plain": [
       "{'package seasoned crouton such new brand texas toast sea salt pepper'}"
      ]
     },
     "execution_count": 93,
     "metadata": {},
     "output_type": "execute_result"
    }
   ],
   "source": [
    "lenthoffoods[11]"
   ]
  },
  {
   "cell_type": "code",
   "execution_count": 57,
   "metadata": {},
   "outputs": [
    {
     "data": {
      "text/plain": [
       "{'fat free creamy salad dressing fat free miracle whip tm',\n",
       " 'g tub philadelphia savoury garlic cooking creme cream cheese product',\n",
       " 'garlic flavor bite size bagel chip regular size bagel chip'}"
      ]
     },
     "execution_count": 57,
     "metadata": {},
     "output_type": "execute_result"
    }
   ],
   "source": [
    "lenthoffoods[10]"
   ]
  },
  {
   "cell_type": "code",
   "execution_count": 71,
   "metadata": {},
   "outputs": [
    {
     "data": {
      "text/plain": [
       "{''}"
      ]
     },
     "execution_count": 71,
     "metadata": {},
     "output_type": "execute_result"
    }
   ],
   "source": [
    "lenthoffoods[0]"
   ]
  },
  {
   "cell_type": "code",
   "execution_count": 70,
   "metadata": {},
   "outputs": [
    {
     "data": {
      "text/plain": [
       "{'bag eye recipe ready pizza supreme blend',\n",
       " 'bag white cheddar kettle style potato chip',\n",
       " 'box chicken flavor dry bread stuffing mix',\n",
       " 'box dry corn muffin mix such jiffy',\n",
       " 'brandy base orange liqueur such grand marnier',\n",
       " 'citrus flavor energy drink red bull ™',\n",
       " 'cup blue green fruit flavor candy such',\n",
       " 'dash hot pepper sauce such frank redhot',\n",
       " 'dash hot pepper sauce texas pete ™',\n",
       " 'drain hot mild pickle banana pepper ring',\n",
       " 'envelope fleischmann pizza crust yeast rapidrise yeast',\n",
       " 'fluid ounce gran gala triple orange liqueur',\n",
       " 'fluid ounce triple sec orange flavor liqueur',\n",
       " 'foil wrap milk chocolate piece such hershey',\n",
       " 'frozen bite size potato nugget such tater',\n",
       " 'g package naan bread bread g package',\n",
       " 'jar real bacon piece such hormel ™',\n",
       " 'light rye flour such bob red mill',\n",
       " 'low fat greek style yogurt such fage',\n",
       " 'ounce bottle buffalo wing sauce such frank',\n",
       " 'ounce cream mushroom soup regular % sodium',\n",
       " 'ounce envelope fleischmann pizza crust yeast yeast',\n",
       " 'ounce jar chunky spaghetti sauce such monte',\n",
       " 'ounce package devil food cake mix pudding',\n",
       " 'ounce package dry italian salad dressing mix',\n",
       " 'ounce package german chocolate cake mix pudding',\n",
       " 'ounce package prebaked pizza crust such boboli',\n",
       " 'ounce package room temperature fresh pizza dough',\n",
       " 'ounce pulp free pure premium orange juice',\n",
       " 'ounce reduce fat sharp cheddar cheese cube',\n",
       " 'ounce sweeten cream coconut such coco lopez',\n",
       " 'ounce tomato clam juice cocktail such clamato',\n",
       " 'ounce tomato green chile pepper such ro*tel',\n",
       " 'package candy coat milk chocolate piece such',\n",
       " 'package chicken flavor dry bread stuffing mix',\n",
       " 'package double ready use pie crust such',\n",
       " 'package instant sugar free vanilla pudding mix',\n",
       " 'package long grain wild rice seasoning packet',\n",
       " 'package milk chocolate candy kiss such hershey',\n",
       " 'package shred cheddar monterey jack cheese blend',\n",
       " 'package white chocolate square white baking bar',\n",
       " 'package whole wheat macaroni such smart taste',\n",
       " 'pastry double crust pie footnote recipe link',\n",
       " 'pinch salt free seasoning blend such dash',\n",
       " 'pouch progresso recipe creamy cheese cooking sauce',\n",
       " 'progresso italian style panko crispy bread crumb',\n",
       " 'recipe pastry double crust deep dish pie',\n",
       " 'reduce fat process cheese food such velveeta',\n",
       " 'shred % milk cheddar cheese such kraft',\n",
       " 'shred white yellow cheese such mozzarella cheddar',\n",
       " 'tablespoon vegan cream cheese substitute such tofutti',\n",
       " 'teaspoon cajun seasoning blend such tony chachere',\n",
       " 'white confectioner coat premium white chocolate chip'}"
      ]
     },
     "execution_count": 70,
     "metadata": {},
     "output_type": "execute_result"
    }
   ],
   "source": [
    "lenthoffoods[7]"
   ]
  },
  {
   "cell_type": "markdown",
   "metadata": {},
   "source": [
    "### Solving entities\n",
    "1. length 0,7,8,9,10,11 remove\n"
   ]
  },
  {
   "cell_type": "code",
   "execution_count": 94,
   "metadata": {},
   "outputs": [
    {
     "data": {
      "text/plain": [
       "3828"
      ]
     },
     "execution_count": 94,
     "metadata": {},
     "output_type": "execute_result"
    }
   ],
   "source": [
    "len(recipes)"
   ]
  },
  {
   "cell_type": "code",
   "execution_count": 95,
   "metadata": {},
   "outputs": [
    {
     "data": {
      "text/plain": [
       "'lemon peel'"
      ]
     },
     "execution_count": 95,
     "metadata": {},
     "output_type": "execute_result"
    }
   ],
   "source": [
    "list(lenthoffoods[2])[5]"
   ]
  },
  {
   "cell_type": "code",
   "execution_count": 96,
   "metadata": {},
   "outputs": [],
   "source": [
    "from copy import copy\n",
    "reduced_food = copy(lenthoffoods)\n",
    "rm_list = [0,7,8,9,10,11]\n",
    "for r in rm_list:\n",
    "    del reduced_food[r]"
   ]
  },
  {
   "cell_type": "code",
   "execution_count": 97,
   "metadata": {},
   "outputs": [
    {
     "data": {
      "text/plain": [
       "True"
      ]
     },
     "execution_count": 97,
     "metadata": {},
     "output_type": "execute_result"
    }
   ],
   "source": [
    "\"ounce\" in lenthoffoods[1]"
   ]
  },
  {
   "cell_type": "markdown",
   "metadata": {},
   "source": [
    "### TODO\n",
    "1. Remove units word from all list\n",
    "2. Only keeps Noun in 1-length list\n",
    "3. TOBECONTINUED"
   ]
  },
  {
   "cell_type": "code",
   "execution_count": 97,
   "metadata": {},
   "outputs": [],
   "source": [
    "import spacy\n",
    "import regex\n",
    "import json\n",
    "from collections import Counter\n",
    "nlp =  spacy.load('en_core_web_lg')\n",
    "from spacy.lemmatizer import Lemmatizer\n",
    "from spacy.lang.en import LEMMA_INDEX, LEMMA_EXC, LEMMA_RULES\n",
    "from spacy.tokenizer import Tokenizer\n",
    "Tokenizer = Tokenizer(nlp.vocab)\n",
    "Lemmatizer = Lemmatizer(LEMMA_INDEX, LEMMA_EXC, LEMMA_RULES)"
   ]
  },
  {
   "cell_type": "code",
   "execution_count": 98,
   "metadata": {},
   "outputs": [],
   "source": [
    "all_units.add(\"ounce\")\n",
    "bad_words = set(list(all_units)+list({\"1/4-inch\", \"4x4-inch\", \"1-inch\", \"1/2-inch\", \"1/8-inch\", \"12-inch\", \"2-inch\", \"degree\", \"f/45\", \"fluid\", \"12x12\", \"half\", \"degree degree\"}))"
   ]
  },
  {
   "cell_type": "code",
   "execution_count": 99,
   "metadata": {},
   "outputs": [
    {
     "data": {
      "text/plain": [
       "{'1-inch',\n",
       " '1/2-inch',\n",
       " '1/4-inch',\n",
       " '1/8-inch',\n",
       " '12-inch',\n",
       " '12x12',\n",
       " '2-inch',\n",
       " '4x4-inch',\n",
       " 'DEFAULT',\n",
       " 'cube',\n",
       " 'cup',\n",
       " 'degree',\n",
       " 'degree degree',\n",
       " 'f/45',\n",
       " 'fluid',\n",
       " 'gallon',\n",
       " 'gram',\n",
       " 'half',\n",
       " 'inch',\n",
       " 'liter',\n",
       " 'milliliter',\n",
       " 'not valid',\n",
       " 'ounce',\n",
       " 'oz',\n",
       " 'pound',\n",
       " 'quart',\n",
       " 'tablespoon',\n",
       " 'teaspoon'}"
      ]
     },
     "execution_count": 99,
     "metadata": {},
     "output_type": "execute_result"
    }
   ],
   "source": [
    "bad_words"
   ]
  },
  {
   "cell_type": "code",
   "execution_count": 100,
   "metadata": {},
   "outputs": [
    {
     "data": {
      "text/plain": [
       "219"
      ]
     },
     "execution_count": 100,
     "metadata": {},
     "output_type": "execute_result"
    }
   ],
   "source": [
    "tmp = copy(reduced_food[1])\n",
    "len(tmp)"
   ]
  },
  {
   "cell_type": "code",
   "execution_count": 101,
   "metadata": {},
   "outputs": [],
   "source": [
    "for t in tmp:\n",
    "    if t in bad_words:\n",
    "        reduced_food[1].remove(t)"
   ]
  },
  {
   "cell_type": "code",
   "execution_count": 150,
   "metadata": {},
   "outputs": [],
   "source": [
    "def writeres(length, l):\n",
    "    file = \"./\"+str(length)+\".txt\"\n",
    "    with open(file, \"w\") as f:\n",
    "        for v in l:\n",
    "            f.write(v)\n",
    "            f.write(\"\\n\")\n",
    "    \n"
   ]
  },
  {
   "cell_type": "code",
   "execution_count": 102,
   "metadata": {},
   "outputs": [
    {
     "data": {
      "text/plain": [
       "182"
      ]
     },
     "execution_count": 102,
     "metadata": {},
     "output_type": "execute_result"
    }
   ],
   "source": [
    "out_1 = []\n",
    "for r in reduced_food[1]:\n",
    "    tmp=nlp(r)\n",
    "    for token in tmp:\n",
    "        if token.tag_ == \"NN\":\n",
    "            out_1.append(token.text)\n",
    "len(out_1)\n",
    "            "
   ]
  },
  {
   "cell_type": "code",
   "execution_count": 101,
   "metadata": {},
   "outputs": [],
   "source": [
    "writeres(1,out_1)"
   ]
  },
  {
   "cell_type": "code",
   "execution_count": 103,
   "metadata": {},
   "outputs": [
    {
     "data": {
      "text/plain": [
       "1171"
      ]
     },
     "execution_count": 103,
     "metadata": {},
     "output_type": "execute_result"
    }
   ],
   "source": [
    "# finished lenth 1 items, begin with more than 2\n",
    "len(reduced_food[2])"
   ]
  },
  {
   "cell_type": "code",
   "execution_count": 104,
   "metadata": {},
   "outputs": [],
   "source": [
    "outputs = set()\n",
    "for key, value in reduced_food.items():\n",
    "    if key != 1:\n",
    "        tmp = copy(value)\n",
    "        for t in tmp:\n",
    "            res = []\n",
    "            for v in t.split():\n",
    "                if v not in bad_words:\n",
    "                    res.append(v)\n",
    "            if res:\n",
    "                outputs.add(\" \".join(res))\n",
    "                "
   ]
  },
  {
   "cell_type": "code",
   "execution_count": 111,
   "metadata": {},
   "outputs": [],
   "source": [
    "outputs = set(list(outputs)+list(out_1))"
   ]
  },
  {
   "cell_type": "code",
   "execution_count": 112,
   "metadata": {},
   "outputs": [
    {
     "data": {
      "text/plain": [
       "3973"
      ]
     },
     "execution_count": 112,
     "metadata": {},
     "output_type": "execute_result"
    }
   ],
   "source": [
    "len(outputs)"
   ]
  },
  {
   "cell_type": "code",
   "execution_count": 107,
   "metadata": {},
   "outputs": [],
   "source": [
    "# add to 1-itmset\n",
    "outputs_dict = defaultdict(set)\n",
    "for o in outputs:\n",
    "    outputs_dict[len(o.split())].add(o)"
   ]
  },
  {
   "cell_type": "code",
   "execution_count": 110,
   "metadata": {},
   "outputs": [
    {
     "data": {
      "text/plain": [
       "dict_keys([2, 3, 1, 4, 5, 6])"
      ]
     },
     "execution_count": 110,
     "metadata": {},
     "output_type": "execute_result"
    }
   ],
   "source": [
    "outputs_dict.keys()"
   ]
  },
  {
   "cell_type": "code",
   "execution_count": 165,
   "metadata": {},
   "outputs": [],
   "source": [
    "for k, v in outputs_dict.items():\n",
    "    writeres(k, v)"
   ]
  },
  {
   "cell_type": "code",
   "execution_count": 113,
   "metadata": {},
   "outputs": [
    {
     "data": {
      "text/plain": [
       "1178"
      ]
     },
     "execution_count": 113,
     "metadata": {},
     "output_type": "execute_result"
    }
   ],
   "source": [
    "len(outputs_dict[2])"
   ]
  },
  {
   "cell_type": "code",
   "execution_count": 114,
   "metadata": {},
   "outputs": [
    {
     "data": {
      "text/plain": [
       "1450"
      ]
     },
     "execution_count": 114,
     "metadata": {},
     "output_type": "execute_result"
    }
   ],
   "source": [
    "len(outputs_dict[3])"
   ]
  },
  {
   "cell_type": "code",
   "execution_count": 115,
   "metadata": {},
   "outputs": [
    {
     "data": {
      "text/plain": [
       "753"
      ]
     },
     "execution_count": 115,
     "metadata": {},
     "output_type": "execute_result"
    }
   ],
   "source": [
    "len(outputs_dict[4])"
   ]
  },
  {
   "cell_type": "code",
   "execution_count": 116,
   "metadata": {},
   "outputs": [
    {
     "data": {
      "text/plain": [
       "300"
      ]
     },
     "execution_count": 116,
     "metadata": {},
     "output_type": "execute_result"
    }
   ],
   "source": [
    "len(outputs_dict[5])"
   ]
  },
  {
   "cell_type": "code",
   "execution_count": 117,
   "metadata": {},
   "outputs": [
    {
     "data": {
      "text/plain": [
       "80"
      ]
     },
     "execution_count": 117,
     "metadata": {},
     "output_type": "execute_result"
    }
   ],
   "source": [
    "len(outputs_dict[6])"
   ]
  },
  {
   "cell_type": "code",
   "execution_count": null,
   "metadata": {},
   "outputs": [],
   "source": []
  },
  {
   "cell_type": "code",
   "execution_count": null,
   "metadata": {},
   "outputs": [],
   "source": []
  },
  {
   "cell_type": "code",
   "execution_count": null,
   "metadata": {},
   "outputs": [],
   "source": []
  },
  {
   "cell_type": "code",
   "execution_count": null,
   "metadata": {},
   "outputs": [],
   "source": []
  },
  {
   "cell_type": "code",
   "execution_count": 166,
   "metadata": {},
   "outputs": [],
   "source": [
    "writeres(\"unit\", all_units)"
   ]
  },
  {
   "cell_type": "markdown",
   "metadata": {},
   "source": [
    "### processing 3rd round recipe"
   ]
  },
  {
   "cell_type": "code",
   "execution_count": 189,
   "metadata": {},
   "outputs": [],
   "source": [
    "recipes = pickle.load(open(\"./third_round_extraction.pkl\", \"rb\"))"
   ]
  },
  {
   "cell_type": "code",
   "execution_count": 190,
   "metadata": {},
   "outputs": [],
   "source": [
    "# 0,7,8,9,10,11 remove\n",
    "rmlist = [0,7,8,9,10,11]\n",
    "for r in recipes:\n",
    "    for index in range(len(r.unit)):\n",
    "        if len(r.entities[index].split()) in rmlist:\n",
    "            r.ingredient[index] = \"not valid\"\n",
    "            r.unit[index] = \"not valid\"\n",
    "            r.number[index] = \"not valid\"\n",
    "            r.entities[index] = \"not valid\""
   ]
  },
  {
   "cell_type": "code",
   "execution_count": 191,
   "metadata": {},
   "outputs": [
    {
     "data": {
      "text/plain": [
       "{1, 2, 3, 4, 5, 6}"
      ]
     },
     "execution_count": 191,
     "metadata": {},
     "output_type": "execute_result"
    }
   ],
   "source": [
    "all_len = set()\n",
    "for r in recipes:\n",
    "    for index in range(len(r.unit)):\n",
    "        all_len.add(len(r.entities[index].split()))\n",
    "all_len"
   ]
  },
  {
   "cell_type": "code",
   "execution_count": 192,
   "metadata": {},
   "outputs": [],
   "source": [
    "for r in recipes:\n",
    "    for index in range(len(r.unit)):\n",
    "        if len(r.entities[index].split()) in rmlist:\n",
    "            print(\"???\")"
   ]
  },
  {
   "cell_type": "code",
   "execution_count": 150,
   "metadata": {},
   "outputs": [],
   "source": [
    "import spacy\n",
    "import regex\n",
    "import json\n",
    "from collections import Counter\n",
    "nlp =  spacy.load('en_core_web_lg')\n",
    "from spacy.lemmatizer import Lemmatizer\n",
    "from spacy.lang.en import LEMMA_INDEX, LEMMA_EXC, LEMMA_RULES\n",
    "from spacy.tokenizer import Tokenizer\n",
    "Tokenizer = Tokenizer(nlp.vocab)\n",
    "Lemmatizer = Lemmatizer(LEMMA_INDEX, LEMMA_EXC, LEMMA_RULES)"
   ]
  },
  {
   "cell_type": "code",
   "execution_count": 196,
   "metadata": {},
   "outputs": [],
   "source": [
    "# func1\n",
    "\n",
    "check_1 = set()\n",
    "for r in recipes:\n",
    "    for index in range(len(r.unit)):\n",
    "        if len(r.entities[index].split()) == 1:\n",
    "            tmp = nlp(r.entities[index])\n",
    "            for token in tmp:\n",
    "                if token.tag_ == 'NN' and token.text not in bad_words:\n",
    "                    r.entities[index] = token.text\n",
    "                    check_1.add(token.text)\n",
    "                else:\n",
    "                    r.unit[index] = \"not valid\"\n",
    "                    r.number[index] = \"not valid\"\n",
    "                    r.ingredient[index] = \"not valid\"\n",
    "                    r.entities[index] = \"not valid\""
   ]
  },
  {
   "cell_type": "code",
   "execution_count": 197,
   "metadata": {},
   "outputs": [
    {
     "data": {
      "text/plain": [
       "203"
      ]
     },
     "execution_count": 197,
     "metadata": {},
     "output_type": "execute_result"
    }
   ],
   "source": [
    "len(check_1)"
   ]
  },
  {
   "cell_type": "code",
   "execution_count": 195,
   "metadata": {},
   "outputs": [],
   "source": [
    "# func2\n",
    "import copy\n",
    "for r in recipes:\n",
    "    for index in range(len(r.unit)):\n",
    "        if len(r.entities[index].split()) > 1:\n",
    "            tmp = copy.copy(r.entities[index].split())\n",
    "            res = []\n",
    "            for v in tmp:\n",
    "                if v not in bad_words:\n",
    "                    res.append(v)\n",
    "            if res:\n",
    "                r.entities[index] = \" \".join(res)"
   ]
  },
  {
   "cell_type": "code",
   "execution_count": 205,
   "metadata": {},
   "outputs": [],
   "source": [
    "## func1-> func2-> func1"
   ]
  },
  {
   "cell_type": "code",
   "execution_count": 210,
   "metadata": {},
   "outputs": [],
   "source": [
    "lenset = set()\n",
    "checkset = defaultdict(set)\n",
    "for r in recipes:\n",
    "    for index in range(len(r.unit)):\n",
    "        lenset.add(len(r.entities[index].split()))\n",
    "        checkset[len(r.entities[index].split())].add(r.entities[index])"
   ]
  },
  {
   "cell_type": "code",
   "execution_count": 166,
   "metadata": {},
   "outputs": [],
   "source": [
    "one  = set()\n",
    "with open(\"./1.txt\", \"r\") as f:\n",
    "    for line in f:\n",
    "        one.add(line.strip())\n",
    "two = set()\n",
    "with open(\"./2.txt\", \"r\") as f:\n",
    "    for line in f:\n",
    "        two.add(line.strip())\n",
    "three = set()\n",
    "with open(\"./3.txt\", \"r\") as f:\n",
    "    for line in f:\n",
    "        three.add(line.strip())\n",
    "four = set()\n",
    "with open(\"./4.txt\", \"r\") as f:\n",
    "    for line in f:\n",
    "        four.add(line.strip())\n",
    "five = set()\n",
    "with open(\"./5.txt\", \"r\") as f:\n",
    "    for line in f:\n",
    "        five.add(line.strip())\n",
    "six = set()\n",
    "with open(\"./6.txt\", \"r\") as f:\n",
    "    for line in f:\n",
    "        six.add(line.strip())"
   ]
  },
  {
   "cell_type": "code",
   "execution_count": 211,
   "metadata": {},
   "outputs": [
    {
     "data": {
      "text/plain": [
       "set()"
      ]
     },
     "execution_count": 211,
     "metadata": {},
     "output_type": "execute_result"
    }
   ],
   "source": [
    "checkset[1].difference(one)"
   ]
  },
  {
   "cell_type": "code",
   "execution_count": 212,
   "metadata": {},
   "outputs": [
    {
     "data": {
      "text/plain": [
       "set()"
      ]
     },
     "execution_count": 212,
     "metadata": {},
     "output_type": "execute_result"
    }
   ],
   "source": [
    "checkset[2].difference(two)"
   ]
  },
  {
   "cell_type": "code",
   "execution_count": 213,
   "metadata": {},
   "outputs": [
    {
     "data": {
      "text/plain": [
       "set()"
      ]
     },
     "execution_count": 213,
     "metadata": {},
     "output_type": "execute_result"
    }
   ],
   "source": [
    "checkset[3].difference(three)"
   ]
  },
  {
   "cell_type": "code",
   "execution_count": 214,
   "metadata": {},
   "outputs": [
    {
     "data": {
      "text/plain": [
       "set()"
      ]
     },
     "execution_count": 214,
     "metadata": {},
     "output_type": "execute_result"
    }
   ],
   "source": [
    "checkset[4].difference(four)"
   ]
  },
  {
   "cell_type": "code",
   "execution_count": 215,
   "metadata": {},
   "outputs": [
    {
     "data": {
      "text/plain": [
       "set()"
      ]
     },
     "execution_count": 215,
     "metadata": {},
     "output_type": "execute_result"
    }
   ],
   "source": [
    "checkset[5].difference(five)"
   ]
  },
  {
   "cell_type": "code",
   "execution_count": 216,
   "metadata": {},
   "outputs": [
    {
     "data": {
      "text/plain": [
       "set()"
      ]
     },
     "execution_count": 216,
     "metadata": {},
     "output_type": "execute_result"
    }
   ],
   "source": [
    "checkset[6].difference(six)"
   ]
  },
  {
   "cell_type": "code",
   "execution_count": 207,
   "metadata": {},
   "outputs": [],
   "source": [
    "final_remove_set = {'half half', 'ounce half', 'fluid ounce half half'} # final_remove set for removing unsolved"
   ]
  },
  {
   "cell_type": "code",
   "execution_count": 208,
   "metadata": {},
   "outputs": [],
   "source": [
    "cnt = 0\n",
    "for r in recipes:\n",
    "    for index in range(len(r.unit)):\n",
    "        if r.entities[index] in final_remove_set:\n",
    "            r.entities[index] = \"not valid\"\n",
    "            r.unit[index] = \"not valid\"\n",
    "            r.ingredient[index] = \"not valid\"\n",
    "            r.number[index] = \"not valid\"\n",
    "            cnt +=1"
   ]
  },
  {
   "cell_type": "code",
   "execution_count": 209,
   "metadata": {},
   "outputs": [
    {
     "data": {
      "text/plain": [
       "37"
      ]
     },
     "execution_count": 209,
     "metadata": {},
     "output_type": "execute_result"
    }
   ],
   "source": [
    "cnt"
   ]
  },
  {
   "cell_type": "code",
   "execution_count": 161,
   "metadata": {},
   "outputs": [
    {
     "data": {
      "text/plain": [
       "1180"
      ]
     },
     "execution_count": 161,
     "metadata": {},
     "output_type": "execute_result"
    }
   ],
   "source": [
    "len(checkset[2])"
   ]
  },
  {
   "cell_type": "code",
   "execution_count": 162,
   "metadata": {},
   "outputs": [
    {
     "data": {
      "text/plain": [
       "1450"
      ]
     },
     "execution_count": 162,
     "metadata": {},
     "output_type": "execute_result"
    }
   ],
   "source": [
    "len(checkset[3])"
   ]
  },
  {
   "cell_type": "code",
   "execution_count": 163,
   "metadata": {},
   "outputs": [
    {
     "data": {
      "text/plain": [
       "754"
      ]
     },
     "execution_count": 163,
     "metadata": {},
     "output_type": "execute_result"
    }
   ],
   "source": [
    "len(checkset[4])"
   ]
  },
  {
   "cell_type": "code",
   "execution_count": 164,
   "metadata": {},
   "outputs": [
    {
     "data": {
      "text/plain": [
       "300"
      ]
     },
     "execution_count": 164,
     "metadata": {},
     "output_type": "execute_result"
    }
   ],
   "source": [
    "len(checkset[5])"
   ]
  },
  {
   "cell_type": "code",
   "execution_count": 165,
   "metadata": {},
   "outputs": [
    {
     "data": {
      "text/plain": [
       "80"
      ]
     },
     "execution_count": 165,
     "metadata": {},
     "output_type": "execute_result"
    }
   ],
   "source": [
    "len(checkset[6])"
   ]
  },
  {
   "cell_type": "code",
   "execution_count": 79,
   "metadata": {},
   "outputs": [
    {
     "data": {
      "text/plain": [
       "{'baked whole wheat regular pizza crust',\n",
       " 'box vanilla wafer cookie such nilla',\n",
       " 'candy coat milk chocolate piece such',\n",
       " 'cayenne pepper sauce such frank redhot',\n",
       " 'chop sun dry tomato olive oil',\n",
       " 'clear plastic latex free disposable glove',\n",
       " 'creamy salad dressing such miracle whip',\n",
       " 'creole seasoning blend such link footnote',\n",
       " 'crush chocolate sandwich cookie such oreo',\n",
       " 'dash crush red pepper flake optional',\n",
       " 'dash hot pepper sauce such tabasco',\n",
       " 'dash hot sauce such frank redhot',\n",
       " 'dash hot sauce such tabasco optional',\n",
       " 'dash pepper sauce such red hot',\n",
       " 'envelope reduce sodium taco seasoning mix',\n",
       " 'herb season dry bread stuffing mix',\n",
       " 'high protein crisp rice wheat cereal',\n",
       " 'hot chile paste such sambal oelek',\n",
       " 'hot pepper sauce such frank redhot',\n",
       " 'jar chocolate hazelnut spread such nutella',\n",
       " 'large leek white pale green part',\n",
       " 'loaf frozen whole wheat bread dough',\n",
       " 'loaf process cheese food such velveeta',\n",
       " 'mexican style corn red green pepper',\n",
       " 'milk chocolate candy kiss such hershey',\n",
       " 'mini vanilla wafer cookie such nilla',\n",
       " 'miniature marshmallow such kraft jet puffed',\n",
       " 'nestle toll house semi sweet chocolate',\n",
       " 'package baker semi sweet baking chocolate',\n",
       " 'package buttery round cracker such ritz',\n",
       " 'package chocolate sandwich cookie creme fill',\n",
       " 'package crescent roll dough such pillsbury',\n",
       " 'package dry ranch salad dressing mix',\n",
       " 'package dry ranch style dressing mix',\n",
       " 'package frozen pepper onion fry mix',\n",
       " 'package fruit flavor jell o mix',\n",
       " 'package hillshire farm beef smoke sausage',\n",
       " 'package lime flavor jell o mix',\n",
       " 'package process cheese food such velveeta',\n",
       " 'package refrigerated pizza dough such trader',\n",
       " 'package shred mozzarella cheddar pizza cheese',\n",
       " 'package shred reduce fat cheddar cheese',\n",
       " 'package small whole wheat pasta shell',\n",
       " 'package strawberry flavor jell o mix',\n",
       " 'package thin rice noodle vermicelli style',\n",
       " 'package uncooked tri color rotini pasta',\n",
       " 'package uncooked tri color spiral pasta',\n",
       " 'package unseasoned dry bread stuffing mix',\n",
       " 'package white cheddar macaroni cheese mix',\n",
       " 'packet peach cream flavor instant oatmeal',\n",
       " 'pasteurize egg white liquid egg substitute',\n",
       " 'pinch salt ground black pepper optional',\n",
       " 'pinot noir other dry red wine',\n",
       " 'recipe pastry 9-inch double crust pie',\n",
       " 'scoop vanilla flavor whey protein powder',\n",
       " 'shred cheddar monterey jack cheese blend',\n",
       " 'shred extra sharp orange cheddar cheese',\n",
       " 'shred extra sharp white cheddar cheese',\n",
       " 'shred hot pepper monterey jack cheese',\n",
       " 'shred mexican style process cheese food',\n",
       " 'shred pepper jack cheese spice paprika',\n",
       " 'shred pepper jack monterey jack cheese',\n",
       " 'shred reduce fat monterey jack cheese',\n",
       " 'sleeve buttery round cracker such ritz',\n",
       " 'slice process cheese food such velveeta',\n",
       " 'small ball fresh mozzarella cheese label',\n",
       " 'small jalapeno pepper seed thick matchstick',\n",
       " 'spice % pure bourbon vanilla extract',\n",
       " 'tear kale leaf bite size piece',\n",
       " 'thick slice deli chicken breast meat',\n",
       " 'thin prebaked whole wheat pizza crust',\n",
       " 'thin strip green bell pepper optional',\n",
       " 'tomato green chile pepper such ro*tel',\n",
       " 'tomato puree such contadina tomato puree',\n",
       " 'tropical fruit flavor jell o mix',\n",
       " 'tub philadelphia chive onion cream cheese',\n",
       " 'unbaked pie crust footnote recipe link',\n",
       " 'uncooked glutinous white rice sushi rice',\n",
       " 'uncooked regular long grain white rice',\n",
       " 'whole berry cranberry sauce 16-ounce can'}"
      ]
     },
     "execution_count": 79,
     "metadata": {},
     "output_type": "execute_result"
    }
   ],
   "source": [
    "checkset[6]"
   ]
  },
  {
   "cell_type": "code",
   "execution_count": 17,
   "metadata": {},
   "outputs": [
    {
     "data": {
      "text/plain": [
       "['butter',\n",
       " 'white sugar',\n",
       " 'vanilla extract',\n",
       " 'purpose flour',\n",
       " 'salt',\n",
       " 'unsweetened cocoa powder',\n",
       " 'chop pecan',\n",
       " 'cup confectioner sugar decoration']"
      ]
     },
     "execution_count": 17,
     "metadata": {},
     "output_type": "execute_result"
    }
   ],
   "source": [
    "recipes[0].entities"
   ]
  },
  {
   "cell_type": "code",
   "execution_count": 52,
   "metadata": {},
   "outputs": [
    {
     "data": {
      "text/plain": [
       "{'1-inch',\n",
       " '1/2-inch',\n",
       " '1/4-inch',\n",
       " '1/8-inch',\n",
       " '12-inch',\n",
       " '12x12',\n",
       " '2-inch',\n",
       " '4x4-inch',\n",
       " 'DEFAULT',\n",
       " 'cube',\n",
       " 'cup',\n",
       " 'degree',\n",
       " 'degree degree',\n",
       " 'f/45',\n",
       " 'fluid',\n",
       " 'gallon',\n",
       " 'gram',\n",
       " 'half',\n",
       " 'inch',\n",
       " 'liter',\n",
       " 'milliliter',\n",
       " 'not valid',\n",
       " 'ounce',\n",
       " 'oz',\n",
       " 'pound',\n",
       " 'quart',\n",
       " 'tablespoon',\n",
       " 'teaspoon'}"
      ]
     },
     "execution_count": 52,
     "metadata": {},
     "output_type": "execute_result"
    }
   ],
   "source": [
    "bad_words"
   ]
  },
  {
   "cell_type": "code",
   "execution_count": 180,
   "metadata": {},
   "outputs": [
    {
     "data": {
      "text/plain": [
       "['pie crust',\n",
       " 'white sugar',\n",
       " 'purpose flour',\n",
       " 'cornstarch',\n",
       " 'salt',\n",
       " 'milk',\n",
       " 'egg yolk',\n",
       " 'square unsweetened chocolate',\n",
       " 'butter',\n",
       " 'vanilla extract']"
      ]
     },
     "execution_count": 180,
     "metadata": {},
     "output_type": "execute_result"
    }
   ],
   "source": [
    "recipes[7].entities"
   ]
  },
  {
   "cell_type": "code",
   "execution_count": 217,
   "metadata": {},
   "outputs": [],
   "source": [
    "file = \"./final_round_extraction.pkl\"\n",
    "with open(file, \"wb\") as w:\n",
    "    pickle.dump(recipes, w)"
   ]
  },
  {
   "cell_type": "code",
   "execution_count": 206,
   "metadata": {},
   "outputs": [
    {
     "data": {
      "text/plain": [
       "{'DEFAULT',\n",
       " 'cube',\n",
       " 'cup',\n",
       " 'gallon',\n",
       " 'gram',\n",
       " 'inch',\n",
       " 'liter',\n",
       " 'milliliter',\n",
       " 'not valid',\n",
       " 'ounce',\n",
       " 'oz',\n",
       " 'pound',\n",
       " 'quart',\n",
       " 'tablespoon',\n",
       " 'teaspoon'}"
      ]
     },
     "execution_count": 206,
     "metadata": {},
     "output_type": "execute_result"
    }
   ],
   "source": [
    "all_units"
   ]
  },
  {
   "cell_type": "code",
   "execution_count": null,
   "metadata": {},
   "outputs": [],
   "source": []
  }
 ],
 "metadata": {
  "kernelspec": {
   "display_name": "Python [conda env:miniconda3]",
   "language": "python",
   "name": "conda-env-miniconda3-py"
  },
  "language_info": {
   "codemirror_mode": {
    "name": "ipython",
    "version": 3
   },
   "file_extension": ".py",
   "mimetype": "text/x-python",
   "name": "python",
   "nbconvert_exporter": "python",
   "pygments_lexer": "ipython3",
   "version": "3.6.5"
  }
 },
 "nbformat": 4,
 "nbformat_minor": 2
}
